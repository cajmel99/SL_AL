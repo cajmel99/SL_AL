{
 "cells": [
  {
   "cell_type": "code",
   "execution_count": 2,
   "id": "30488f72",
   "metadata": {},
   "outputs": [],
   "source": [
    "import pandas as pd\n",
    "import numpy as np\n",
    "from statsmodels.stats.anova import AnovaRM\n",
    "import numpy as np\n",
    "from scipy.stats import ttest_rel, wilcoxon, shapiro, levene, f_oneway, kruskal, ttest_ind, mannwhitneyu\n",
    "import os"
   ]
  },
  {
   "cell_type": "markdown",
   "id": "fd7fd62b",
   "metadata": {},
   "source": [
    "# Load data"
   ]
  },
  {
   "cell_type": "code",
   "execution_count": 8,
   "id": "c93989a4",
   "metadata": {},
   "outputs": [],
   "source": [
    "path = os.path.join(os.getcwd(), 'Final_results/results_summary.csv')\n",
    "\n",
    "df = pd.read_csv(path)"
   ]
  },
  {
   "cell_type": "markdown",
   "id": "036b5583",
   "metadata": {},
   "source": [
    "# 2500 budget"
   ]
  },
  {
   "cell_type": "code",
   "execution_count": 9,
   "id": "27e8e559",
   "metadata": {},
   "outputs": [
    {
     "data": {
      "text/html": [
       "<div>\n",
       "<style scoped>\n",
       "    .dataframe tbody tr th:only-of-type {\n",
       "        vertical-align: middle;\n",
       "    }\n",
       "\n",
       "    .dataframe tbody tr th {\n",
       "        vertical-align: top;\n",
       "    }\n",
       "\n",
       "    .dataframe thead th {\n",
       "        text-align: right;\n",
       "    }\n",
       "</style>\n",
       "<table border=\"1\" class=\"dataframe\">\n",
       "  <thead>\n",
       "    <tr style=\"text-align: right;\">\n",
       "      <th></th>\n",
       "      <th>Unnamed: 0</th>\n",
       "      <th>Metoda</th>\n",
       "      <th>Budżet</th>\n",
       "      <th>Fold 1</th>\n",
       "      <th>Fold 2</th>\n",
       "      <th>Fold 3</th>\n",
       "      <th>Fold 4</th>\n",
       "      <th>Fold 5</th>\n",
       "      <th>Średnia</th>\n",
       "      <th>Odchylenie std.</th>\n",
       "      <th>Shapiro-Wilk W</th>\n",
       "      <th>Shapiro-Wilk p-value</th>\n",
       "    </tr>\n",
       "  </thead>\n",
       "  <tbody>\n",
       "    <tr>\n",
       "      <th>0</th>\n",
       "      <td>0</td>\n",
       "      <td>sl_with_correction</td>\n",
       "      <td>500–2500</td>\n",
       "      <td>43.06</td>\n",
       "      <td>43.38</td>\n",
       "      <td>43.73</td>\n",
       "      <td>43.89</td>\n",
       "      <td>44.63</td>\n",
       "      <td>43.74</td>\n",
       "      <td>0.53</td>\n",
       "      <td>0.967457</td>\n",
       "      <td>0.858695</td>\n",
       "    </tr>\n",
       "    <tr>\n",
       "      <th>1</th>\n",
       "      <td>1</td>\n",
       "      <td>sl_with_correction</td>\n",
       "      <td>1000–5000</td>\n",
       "      <td>46.00</td>\n",
       "      <td>46.33</td>\n",
       "      <td>43.91</td>\n",
       "      <td>46.27</td>\n",
       "      <td>47.82</td>\n",
       "      <td>46.07</td>\n",
       "      <td>1.25</td>\n",
       "      <td>0.914960</td>\n",
       "      <td>0.497964</td>\n",
       "    </tr>\n",
       "    <tr>\n",
       "      <th>2</th>\n",
       "      <td>2</td>\n",
       "      <td>sl_with_correction</td>\n",
       "      <td>2000–10000</td>\n",
       "      <td>53.82</td>\n",
       "      <td>54.66</td>\n",
       "      <td>52.81</td>\n",
       "      <td>53.03</td>\n",
       "      <td>54.82</td>\n",
       "      <td>53.83</td>\n",
       "      <td>0.78</td>\n",
       "      <td>0.892862</td>\n",
       "      <td>0.371698</td>\n",
       "    </tr>\n",
       "    <tr>\n",
       "      <th>3</th>\n",
       "      <td>3</td>\n",
       "      <td>AL</td>\n",
       "      <td>500–2500</td>\n",
       "      <td>45.41</td>\n",
       "      <td>45.22</td>\n",
       "      <td>45.48</td>\n",
       "      <td>48.67</td>\n",
       "      <td>45.12</td>\n",
       "      <td>45.98</td>\n",
       "      <td>1.35</td>\n",
       "      <td>0.642751</td>\n",
       "      <td>0.002183</td>\n",
       "    </tr>\n",
       "    <tr>\n",
       "      <th>4</th>\n",
       "      <td>4</td>\n",
       "      <td>AL</td>\n",
       "      <td>1000–5000</td>\n",
       "      <td>48.48</td>\n",
       "      <td>51.58</td>\n",
       "      <td>51.35</td>\n",
       "      <td>49.66</td>\n",
       "      <td>54.46</td>\n",
       "      <td>51.11</td>\n",
       "      <td>2.03</td>\n",
       "      <td>0.959802</td>\n",
       "      <td>0.806601</td>\n",
       "    </tr>\n",
       "  </tbody>\n",
       "</table>\n",
       "</div>"
      ],
      "text/plain": [
       "   Unnamed: 0              Metoda      Budżet  Fold 1  Fold 2  Fold 3  Fold 4  \\\n",
       "0           0  sl_with_correction    500–2500   43.06   43.38   43.73   43.89   \n",
       "1           1  sl_with_correction   1000–5000   46.00   46.33   43.91   46.27   \n",
       "2           2  sl_with_correction  2000–10000   53.82   54.66   52.81   53.03   \n",
       "3           3                  AL    500–2500   45.41   45.22   45.48   48.67   \n",
       "4           4                  AL   1000–5000   48.48   51.58   51.35   49.66   \n",
       "\n",
       "   Fold 5  Średnia  Odchylenie std.  Shapiro-Wilk W  Shapiro-Wilk p-value  \n",
       "0   44.63    43.74             0.53        0.967457              0.858695  \n",
       "1   47.82    46.07             1.25        0.914960              0.497964  \n",
       "2   54.82    53.83             0.78        0.892862              0.371698  \n",
       "3   45.12    45.98             1.35        0.642751              0.002183  \n",
       "4   54.46    51.11             2.03        0.959802              0.806601  "
      ]
     },
     "execution_count": 9,
     "metadata": {},
     "output_type": "execute_result"
    }
   ],
   "source": [
    "df.head()"
   ]
  },
  {
   "cell_type": "code",
   "execution_count": 10,
   "id": "5008c1ae",
   "metadata": {},
   "outputs": [
    {
     "data": {
      "text/html": [
       "<div>\n",
       "<style scoped>\n",
       "    .dataframe tbody tr th:only-of-type {\n",
       "        vertical-align: middle;\n",
       "    }\n",
       "\n",
       "    .dataframe tbody tr th {\n",
       "        vertical-align: top;\n",
       "    }\n",
       "\n",
       "    .dataframe thead th {\n",
       "        text-align: right;\n",
       "    }\n",
       "</style>\n",
       "<table border=\"1\" class=\"dataframe\">\n",
       "  <thead>\n",
       "    <tr style=\"text-align: right;\">\n",
       "      <th></th>\n",
       "      <th>Unnamed: 0</th>\n",
       "      <th>Metoda</th>\n",
       "      <th>Budżet</th>\n",
       "      <th>Fold 1</th>\n",
       "      <th>Fold 2</th>\n",
       "      <th>Fold 3</th>\n",
       "      <th>Fold 4</th>\n",
       "      <th>Fold 5</th>\n",
       "      <th>Średnia</th>\n",
       "      <th>Odchylenie std.</th>\n",
       "      <th>Shapiro-Wilk W</th>\n",
       "      <th>Shapiro-Wilk p-value</th>\n",
       "    </tr>\n",
       "  </thead>\n",
       "  <tbody>\n",
       "    <tr>\n",
       "      <th>0</th>\n",
       "      <td>0</td>\n",
       "      <td>sl_with_correction</td>\n",
       "      <td>500–2500</td>\n",
       "      <td>43.06</td>\n",
       "      <td>43.38</td>\n",
       "      <td>43.73</td>\n",
       "      <td>43.89</td>\n",
       "      <td>44.63</td>\n",
       "      <td>43.74</td>\n",
       "      <td>0.53</td>\n",
       "      <td>0.967457</td>\n",
       "      <td>0.858695</td>\n",
       "    </tr>\n",
       "    <tr>\n",
       "      <th>1</th>\n",
       "      <td>1</td>\n",
       "      <td>sl_with_correction</td>\n",
       "      <td>1000–5000</td>\n",
       "      <td>46.00</td>\n",
       "      <td>46.33</td>\n",
       "      <td>43.91</td>\n",
       "      <td>46.27</td>\n",
       "      <td>47.82</td>\n",
       "      <td>46.07</td>\n",
       "      <td>1.25</td>\n",
       "      <td>0.914960</td>\n",
       "      <td>0.497964</td>\n",
       "    </tr>\n",
       "    <tr>\n",
       "      <th>2</th>\n",
       "      <td>2</td>\n",
       "      <td>sl_with_correction</td>\n",
       "      <td>2000–10000</td>\n",
       "      <td>53.82</td>\n",
       "      <td>54.66</td>\n",
       "      <td>52.81</td>\n",
       "      <td>53.03</td>\n",
       "      <td>54.82</td>\n",
       "      <td>53.83</td>\n",
       "      <td>0.78</td>\n",
       "      <td>0.892862</td>\n",
       "      <td>0.371698</td>\n",
       "    </tr>\n",
       "    <tr>\n",
       "      <th>3</th>\n",
       "      <td>3</td>\n",
       "      <td>AL</td>\n",
       "      <td>500–2500</td>\n",
       "      <td>45.41</td>\n",
       "      <td>45.22</td>\n",
       "      <td>45.48</td>\n",
       "      <td>48.67</td>\n",
       "      <td>45.12</td>\n",
       "      <td>45.98</td>\n",
       "      <td>1.35</td>\n",
       "      <td>0.642751</td>\n",
       "      <td>0.002183</td>\n",
       "    </tr>\n",
       "    <tr>\n",
       "      <th>4</th>\n",
       "      <td>4</td>\n",
       "      <td>AL</td>\n",
       "      <td>1000–5000</td>\n",
       "      <td>48.48</td>\n",
       "      <td>51.58</td>\n",
       "      <td>51.35</td>\n",
       "      <td>49.66</td>\n",
       "      <td>54.46</td>\n",
       "      <td>51.11</td>\n",
       "      <td>2.03</td>\n",
       "      <td>0.959802</td>\n",
       "      <td>0.806601</td>\n",
       "    </tr>\n",
       "    <tr>\n",
       "      <th>5</th>\n",
       "      <td>5</td>\n",
       "      <td>AL</td>\n",
       "      <td>2000–10000</td>\n",
       "      <td>60.13</td>\n",
       "      <td>60.49</td>\n",
       "      <td>59.74</td>\n",
       "      <td>58.19</td>\n",
       "      <td>59.55</td>\n",
       "      <td>59.62</td>\n",
       "      <td>0.79</td>\n",
       "      <td>0.903681</td>\n",
       "      <td>0.430566</td>\n",
       "    </tr>\n",
       "    <tr>\n",
       "      <th>6</th>\n",
       "      <td>6</td>\n",
       "      <td>sl_al_paraller</td>\n",
       "      <td>500–2500</td>\n",
       "      <td>42.29</td>\n",
       "      <td>42.06</td>\n",
       "      <td>42.11</td>\n",
       "      <td>43.10</td>\n",
       "      <td>43.19</td>\n",
       "      <td>42.55</td>\n",
       "      <td>0.49</td>\n",
       "      <td>0.807712</td>\n",
       "      <td>0.093513</td>\n",
       "    </tr>\n",
       "    <tr>\n",
       "      <th>7</th>\n",
       "      <td>7</td>\n",
       "      <td>sl_al_paraller</td>\n",
       "      <td>1000–5000</td>\n",
       "      <td>49.78</td>\n",
       "      <td>49.61</td>\n",
       "      <td>49.52</td>\n",
       "      <td>49.75</td>\n",
       "      <td>49.86</td>\n",
       "      <td>49.70</td>\n",
       "      <td>0.12</td>\n",
       "      <td>0.951596</td>\n",
       "      <td>0.748584</td>\n",
       "    </tr>\n",
       "    <tr>\n",
       "      <th>8</th>\n",
       "      <td>8</td>\n",
       "      <td>sl_al_paraller</td>\n",
       "      <td>2000–10000</td>\n",
       "      <td>57.65</td>\n",
       "      <td>57.83</td>\n",
       "      <td>57.64</td>\n",
       "      <td>56.05</td>\n",
       "      <td>59.16</td>\n",
       "      <td>57.67</td>\n",
       "      <td>0.99</td>\n",
       "      <td>0.916443</td>\n",
       "      <td>0.507261</td>\n",
       "    </tr>\n",
       "    <tr>\n",
       "      <th>9</th>\n",
       "      <td>9</td>\n",
       "      <td>random_al</td>\n",
       "      <td>500–2500</td>\n",
       "      <td>41.38</td>\n",
       "      <td>40.40</td>\n",
       "      <td>40.63</td>\n",
       "      <td>43.70</td>\n",
       "      <td>43.16</td>\n",
       "      <td>42.65</td>\n",
       "      <td>1.35</td>\n",
       "      <td>0.878420</td>\n",
       "      <td>0.302211</td>\n",
       "    </tr>\n",
       "    <tr>\n",
       "      <th>10</th>\n",
       "      <td>10</td>\n",
       "      <td>random_al</td>\n",
       "      <td>1000–5000</td>\n",
       "      <td>48.23</td>\n",
       "      <td>47.30</td>\n",
       "      <td>47.11</td>\n",
       "      <td>49.06</td>\n",
       "      <td>49.14</td>\n",
       "      <td>48.17</td>\n",
       "      <td>0.85</td>\n",
       "      <td>0.870071</td>\n",
       "      <td>0.266711</td>\n",
       "    </tr>\n",
       "    <tr>\n",
       "      <th>11</th>\n",
       "      <td>11</td>\n",
       "      <td>random_al</td>\n",
       "      <td>2000–10000</td>\n",
       "      <td>55.83</td>\n",
       "      <td>55.62</td>\n",
       "      <td>55.42</td>\n",
       "      <td>55.05</td>\n",
       "      <td>56.33</td>\n",
       "      <td>55.65</td>\n",
       "      <td>0.43</td>\n",
       "      <td>0.992650</td>\n",
       "      <td>0.988103</td>\n",
       "    </tr>\n",
       "  </tbody>\n",
       "</table>\n",
       "</div>"
      ],
      "text/plain": [
       "    Unnamed: 0              Metoda      Budżet  Fold 1  Fold 2  Fold 3  \\\n",
       "0            0  sl_with_correction    500–2500   43.06   43.38   43.73   \n",
       "1            1  sl_with_correction   1000–5000   46.00   46.33   43.91   \n",
       "2            2  sl_with_correction  2000–10000   53.82   54.66   52.81   \n",
       "3            3                  AL    500–2500   45.41   45.22   45.48   \n",
       "4            4                  AL   1000–5000   48.48   51.58   51.35   \n",
       "5            5                  AL  2000–10000   60.13   60.49   59.74   \n",
       "6            6      sl_al_paraller    500–2500   42.29   42.06   42.11   \n",
       "7            7      sl_al_paraller   1000–5000   49.78   49.61   49.52   \n",
       "8            8      sl_al_paraller  2000–10000   57.65   57.83   57.64   \n",
       "9            9           random_al    500–2500   41.38   40.40   40.63   \n",
       "10          10           random_al   1000–5000   48.23   47.30   47.11   \n",
       "11          11           random_al  2000–10000   55.83   55.62   55.42   \n",
       "\n",
       "    Fold 4  Fold 5  Średnia  Odchylenie std.  Shapiro-Wilk W  \\\n",
       "0    43.89   44.63    43.74             0.53        0.967457   \n",
       "1    46.27   47.82    46.07             1.25        0.914960   \n",
       "2    53.03   54.82    53.83             0.78        0.892862   \n",
       "3    48.67   45.12    45.98             1.35        0.642751   \n",
       "4    49.66   54.46    51.11             2.03        0.959802   \n",
       "5    58.19   59.55    59.62             0.79        0.903681   \n",
       "6    43.10   43.19    42.55             0.49        0.807712   \n",
       "7    49.75   49.86    49.70             0.12        0.951596   \n",
       "8    56.05   59.16    57.67             0.99        0.916443   \n",
       "9    43.70   43.16    42.65             1.35        0.878420   \n",
       "10   49.06   49.14    48.17             0.85        0.870071   \n",
       "11   55.05   56.33    55.65             0.43        0.992650   \n",
       "\n",
       "    Shapiro-Wilk p-value  \n",
       "0               0.858695  \n",
       "1               0.497964  \n",
       "2               0.371698  \n",
       "3               0.002183  \n",
       "4               0.806601  \n",
       "5               0.430566  \n",
       "6               0.093513  \n",
       "7               0.748584  \n",
       "8               0.507261  \n",
       "9               0.302211  \n",
       "10              0.266711  \n",
       "11              0.988103  "
      ]
     },
     "execution_count": 10,
     "metadata": {},
     "output_type": "execute_result"
    }
   ],
   "source": [
    "# Shapiro-Wilk test for each samples\n",
    "df['Shapiro-Wilk W'] = df.apply(\n",
    "    lambda row: shapiro([row['Fold 1'], row['Fold 2'], row['Fold 3'], row['Fold 4'], row['Fold 5']])[0], axis=1\n",
    ")\n",
    "df['Shapiro-Wilk p-value'] = df.apply(\n",
    "    lambda row: shapiro([row['Fold 1'], row['Fold 2'], row['Fold 3'], row['Fold 4'], row['Fold 5']])[1], axis=1\n",
    ")\n",
    "\n",
    "df"
   ]
  },
  {
   "cell_type": "code",
   "execution_count": 11,
   "id": "a791f44a",
   "metadata": {},
   "outputs": [],
   "source": [
    "# Extract results for each method and budget\n",
    "sl_budget_2500 = df[(df['Metoda'] == 'sl_with_correction') & (df['Budżet'] == '500–2500')].filter(regex=r'^Fold').values\n",
    "sl_budget_5000 = df[(df['Metoda'] == 'sl_with_correction') & (df['Budżet'] == '1000–5000')].filter(regex=r'^Fold').values\n",
    "sl_budget_10000 = df[(df['Metoda'] == 'sl_with_correction') & (df['Budżet'] == '2000–10000')].filter(regex=r'^Fold').values\n",
    "\n",
    "al_budget_2500 = df[(df['Metoda'] == 'AL') & (df['Budżet'] == '500–2500')].filter(regex=r'^Fold').values\n",
    "al_budget_5000 = df[(df['Metoda'] == 'AL') & (df['Budżet'] == '1000–5000')].filter(regex=r'^Fold').values\n",
    "al_budget_10000 = df[(df['Metoda'] == 'AL') & (df['Budżet'] == '2000–10000')].filter(regex=r'^Fold').values\n",
    "\n",
    "hybrid_budget_2500 = df[(df['Metoda'] == 'sl_al_paraller') & (df['Budżet'] == '500–2500')].filter(regex=r'^Fold').values\n",
    "hybrid_budget_5000 = df[(df['Metoda'] == 'sl_al_paraller') & (df['Budżet'] == '1000–5000')].filter(regex=r'^Fold').values\n",
    "hybrid_budget_10000 = df[(df['Metoda'] == 'sl_al_paraller') & (df['Budżet'] == '2000–10000')].filter(regex=r'^Fold').values\n",
    "\n",
    "random_budget_2500 = df[(df['Metoda'] == 'random') & (df['Budżet'] == '500–2500')].filter(regex=r'^Fold').values\n",
    "random_budget_5000 = df[(df['Metoda'] == 'random') & (df['Budżet'] == '1000–5000')].filter(regex=r'^Fold').values    \n",
    "random_budget_10000 = df[(df['Metoda'] == 'random') & (df['Budżet'] == '2000–10000')].filter(regex=r'^Fold').values\n",
    "\n",
    "sl_with_correction_2500 = sl_budget_2500.flatten()\n",
    "sl_with_correction_5000 = sl_budget_5000.flatten()\n",
    "sl_with_correction_10000 = sl_budget_10000.flatten()"
   ]
  },
  {
   "cell_type": "markdown",
   "id": "cd42cb81",
   "metadata": {},
   "source": [
    "# SL with correction"
   ]
  },
  {
   "cell_type": "code",
   "execution_count": 12,
   "id": "c4b750b9",
   "metadata": {},
   "outputs": [
    {
     "name": "stdout",
     "output_type": "stream",
     "text": [
      "Levene's Test for SL with Correction: W-statistic=0.524, p-value=0.605\n"
     ]
    }
   ],
   "source": [
    "# Levene's test\n",
    "stat, p_value = levene(sl_with_correction_2500, sl_with_correction_5000, sl_with_correction_10000)\n",
    "print(f\"Levene's Test for SL with Correction: W-statistic={stat:.3f}, p-value={p_value:.3f}\")"
   ]
  },
  {
   "cell_type": "code",
   "execution_count": 24,
   "id": "d55a2012",
   "metadata": {},
   "outputs": [
    {
     "name": "stdout",
     "output_type": "stream",
     "text": [
      "One-Way ANOVA for SL with Correction: F-statistic=132.953, p-value=0.000\n"
     ]
    }
   ],
   "source": [
    "# One-way ANOVA for SL with Correction across budgets\n",
    "f_stat_sl_correction, p_value_sl_correction = f_oneway(\n",
    "    sl_with_correction_2500, sl_with_correction_5000, sl_with_correction_10000\n",
    ")\n",
    "print(f\"One-Way ANOVA for SL with Correction: F-statistic={f_stat_sl_correction:.3f}, p-value={p_value_sl_correction:.3f}\")\n"
   ]
  },
  {
   "cell_type": "code",
   "execution_count": 25,
   "id": "513688a0",
   "metadata": {},
   "outputs": [
    {
     "name": "stdout",
     "output_type": "stream",
     "text": [
      "Pooled T-Test (SL 2500 vs 5000 Budget): t-statistic=-3.424, p-value=0.009\n",
      "Pooled T-Test (SL 2500 vs 10000 Budget): t-statistic=-20.691, p-value=0.000\n",
      "Pooled T-Test (SL 5000 vs 10000 Budget): t-statistic=-10.377, p-value=0.000\n"
     ]
    }
   ],
   "source": [
    "# Pooled t-test between SL budgets (2500 and 5000)\n",
    "t_stat_sl_2500_5000, p_value_sl_2500_5000 = ttest_ind(sl_budget_2500.flatten(), sl_budget_5000.flatten(), equal_var=True)\n",
    "print(f\"Pooled T-Test (SL 2500 vs 5000 Budget): t-statistic={t_stat_sl_2500_5000:.3f}, p-value={p_value_sl_2500_5000:.3f}\")\n",
    "\n",
    "# Pooled t-test between SL budgets (2500 and 10000)\n",
    "t_stat_sl_2500_10000, p_value_sl_2500_10000 = ttest_ind(sl_budget_2500.flatten(), sl_budget_10000.flatten(), equal_var=True)\n",
    "print(f\"Pooled T-Test (SL 2500 vs 10000 Budget): t-statistic={t_stat_sl_2500_10000:.3f}, p-value={p_value_sl_2500_10000:.3f}\")\n",
    "\n",
    "# Pooled t-test between SL budgets (5000 and 10000)\n",
    "t_stat_sl_5000_10000, p_value_sl_5000_10000 = ttest_ind(sl_budget_5000.flatten(), sl_budget_10000.flatten(), equal_var=True)\n",
    "print(f\"Pooled T-Test (SL 5000 vs 10000 Budget): t-statistic={t_stat_sl_5000_10000:.3f}, p-value={p_value_sl_5000_10000:.3f}\")"
   ]
  },
  {
   "cell_type": "markdown",
   "id": "d6e1a382",
   "metadata": {},
   "source": [
    "# AL"
   ]
  },
  {
   "cell_type": "code",
   "execution_count": 26,
   "id": "9e868a2c",
   "metadata": {},
   "outputs": [
    {
     "name": "stdout",
     "output_type": "stream",
     "text": [
      "Kruskal-Wallis Test for Active Learning (AL): H-statistic=12.020, p-value=0.002\n"
     ]
    }
   ],
   "source": [
    "# Kruskal-Wallis test for AL across budgets\n",
    "stat_al, p_value_al = kruskal(al_budget_2500.flatten(), al_budget_5000.flatten(), al_budget_10000.flatten())\n",
    "print(f\"Kruskal-Wallis Test for Active Learning (AL): H-statistic={stat_al:.3f}, p-value={p_value_al:.3f}\")"
   ]
  },
  {
   "cell_type": "code",
   "execution_count": 27,
   "id": "e611f041",
   "metadata": {},
   "outputs": [
    {
     "name": "stdout",
     "output_type": "stream",
     "text": [
      "Levene's Test (AL 5000 vs 10000 Budget): W-statistic=2.051, p-value=0.190\n"
     ]
    }
   ],
   "source": [
    "# Levene's test for AL budgets (5000 vs 10000)\n",
    "stat_al_5000_10000, p_value_al_5000_10000 = levene(al_budget_5000.flatten(), al_budget_10000.flatten())\n",
    "print(f\"Levene's Test (AL 5000 vs 10000 Budget): W-statistic={stat_al_5000_10000:.3f}, p-value={p_value_al_5000_10000:.3f}\")"
   ]
  },
  {
   "cell_type": "code",
   "execution_count": 28,
   "id": "56ee4c5f",
   "metadata": {},
   "outputs": [
    {
     "name": "stdout",
     "output_type": "stream",
     "text": [
      "Pooled T-Test (AL 5000 vs 10000 Budget): t-statistic=-7.838, p-value=0.000\n"
     ]
    }
   ],
   "source": [
    "# Pooled t-test between AL budgets (5000 and 10000)\n",
    "t_stat_al_5000_10000, p_value_al_5000_10000 = ttest_ind(al_budget_5000.flatten(), al_budget_10000.flatten(), equal_var=True)\n",
    "print(f\"Pooled T-Test (AL 5000 vs 10000 Budget): t-statistic={t_stat_al_5000_10000:.3f}, p-value={p_value_al_5000_10000:.3f}\")"
   ]
  },
  {
   "cell_type": "code",
   "execution_count": 31,
   "id": "9f0d30af",
   "metadata": {},
   "outputs": [
    {
     "name": "stdout",
     "output_type": "stream",
     "text": [
      "Mann-Whitney U Test (AL 2500 vs 5000 Budget): U-statistic=1.000, p-value=0.016\n",
      "Mann-Whitney U Test (AL 2500 vs 10000 Budget): U-statistic=0.000, p-value=0.008\n"
     ]
    }
   ],
   "source": [
    "# Mann-Whitney U test between AL budgets (2500 and 5000)\n",
    "u_stat_al_2500_5000, p_value_al_2500_5000 = mannwhitneyu(al_budget_2500.flatten(), al_budget_5000.flatten(), alternative='two-sided')\n",
    "print(f\"Mann-Whitney U Test (AL 2500 vs 5000 Budget): U-statistic={u_stat_al_2500_5000:.3f}, p-value={p_value_al_2500_5000:.3f}\")\n",
    "\n",
    "# Mann-Whitney U test between AL budgets (2500 and 10000)\n",
    "u_stat_al_2500_10000, p_value_al_2500_10000 = mannwhitneyu(al_budget_2500.flatten(), al_budget_10000.flatten(), alternative='two-sided')\n",
    "print(f\"Mann-Whitney U Test (AL 2500 vs 10000 Budget): U-statistic={u_stat_al_2500_10000:.3f}, p-value={p_value_al_2500_10000:.3f}\")"
   ]
  },
  {
   "cell_type": "markdown",
   "id": "e2bb9c2d",
   "metadata": {},
   "source": [
    "# Paraller AL and SL"
   ]
  },
  {
   "cell_type": "code",
   "execution_count": 32,
   "id": "2c279a86",
   "metadata": {},
   "outputs": [
    {
     "name": "stdout",
     "output_type": "stream",
     "text": [
      "Levene's Test for Hybrid: W-statistic=1.392, p-value=0.286\n"
     ]
    }
   ],
   "source": [
    "# Extract data for hybrid across budgets\n",
    "hybrid_2500 = hybrid_budget_2500.flatten()\n",
    "hybrid_5000 = hybrid_budget_5000.flatten()\n",
    "hybrid_10000 = hybrid_budget_10000.flatten()\n",
    "\n",
    "# Levene's test\n",
    "stat_hybrid, p_value_hybrid = levene(hybrid_2500, hybrid_5000, hybrid_10000)\n",
    "print(f\"Levene's Test for Hybrid: W-statistic={stat_hybrid:.3f}, p-value={p_value_hybrid:.3f}\")"
   ]
  },
  {
   "cell_type": "code",
   "execution_count": 33,
   "id": "4cd53d17",
   "metadata": {},
   "outputs": [
    {
     "name": "stdout",
     "output_type": "stream",
     "text": [
      "One-Way ANOVA for Hybrid: F-statistic=556.959, p-value=0.000\n"
     ]
    }
   ],
   "source": [
    "# Combine data for hybrid across all budgets\n",
    "hybrid_data = hybrid_budget_2500.flatten().tolist() + hybrid_budget_5000.flatten().tolist() + hybrid_budget_10000.flatten().tolist()\n",
    "\n",
    "# One-way ANOVA\n",
    "f_stat_hybrid, p_value_hybrid = f_oneway(hybrid_budget_2500.flatten(), hybrid_budget_5000.flatten(), hybrid_budget_10000.flatten())\n",
    "print(f\"One-Way ANOVA for Hybrid: F-statistic={f_stat_hybrid:.3f}, p-value={p_value_hybrid:.3f}\")"
   ]
  },
  {
   "cell_type": "code",
   "execution_count": 34,
   "id": "4dc9de97",
   "metadata": {},
   "outputs": [
    {
     "name": "stdout",
     "output_type": "stream",
     "text": [
      "Levene's Test for SL: W-statistic=0.524, p-value=0.605\n",
      "Levene's Test for AL: W-statistic=0.968, p-value=0.408\n",
      "Levene's Test for Hybrid: W-statistic=1.392, p-value=0.286\n"
     ]
    }
   ],
   "source": [
    "# Levene's test for variance comparison between each group\n",
    "stat_sl, p_value_sl = levene(sl_budget_2500.flatten(), sl_budget_5000.flatten(), sl_budget_10000.flatten())\n",
    "print(f\"Levene's Test for SL: W-statistic={stat_sl:.3f}, p-value={p_value_sl:.3f}\")\n",
    "\n",
    "stat_al, p_value_al = levene(al_budget_2500.flatten(), al_budget_5000.flatten(), al_budget_10000.flatten())\n",
    "print(f\"Levene's Test for AL: W-statistic={stat_al:.3f}, p-value={p_value_al:.3f}\")\n",
    "\n",
    "stat_hybrid, p_value_hybrid = levene(hybrid_budget_2500.flatten(), hybrid_budget_5000.flatten(), hybrid_budget_10000.flatten())\n",
    "print(f\"Levene's Test for Hybrid: W-statistic={stat_hybrid:.3f}, p-value={p_value_hybrid:.3f}\")"
   ]
  },
  {
   "cell_type": "code",
   "execution_count": 35,
   "id": "8805e63e",
   "metadata": {},
   "outputs": [
    {
     "name": "stdout",
     "output_type": "stream",
     "text": [
      "Pooled T-Test (Hybrid 2500 vs 5000 Budget): t-statistic=-28.187, p-value=0.000\n",
      "Pooled T-Test (Hybrid 2500 vs 10000 Budget): t-statistic=-27.405, p-value=0.000\n",
      "Pooled T-Test (Hybrid 5000 vs 10000 Budget): t-statistic=-16.010, p-value=0.000\n"
     ]
    }
   ],
   "source": [
    "# Pooled t-test between Hybrid (2500 and 5000 budgets)\n",
    "t_stat_hybrid_2500_5000, p_value_hybrid_2500_5000 = ttest_ind(hybrid_budget_2500.flatten(), hybrid_budget_5000.flatten(), equal_var=True)\n",
    "print(f\"Pooled T-Test (Hybrid 2500 vs 5000 Budget): t-statistic={t_stat_hybrid_2500_5000:.3f}, p-value={p_value_hybrid_2500_5000:.3f}\")\n",
    "\n",
    "# Pooled t-test between Hybrid (2500 and 10000 budgets)\n",
    "t_stat_hybrid_2500_10000, p_value_hybrid_2500_10000 = ttest_ind(hybrid_budget_2500.flatten(), hybrid_budget_10000.flatten(), equal_var=True)\n",
    "print(f\"Pooled T-Test (Hybrid 2500 vs 10000 Budget): t-statistic={t_stat_hybrid_2500_10000:.3f}, p-value={p_value_hybrid_2500_10000:.3f}\")\n",
    "\n",
    "# Pooled t-test between Hybrid (5000 and 10000 budgets)\n",
    "t_stat_hybrid_5000_10000, p_value_hybrid_5000_10000 = ttest_ind(hybrid_budget_5000.flatten(), hybrid_budget_10000.flatten(), equal_var=True)\n",
    "print(f\"Pooled T-Test (Hybrid 5000 vs 10000 Budget): t-statistic={t_stat_hybrid_5000_10000:.3f}, p-value={p_value_hybrid_5000_10000:.3f}\")"
   ]
  },
  {
   "cell_type": "markdown",
   "id": "79f16c6f",
   "metadata": {},
   "source": [
    "# Random"
   ]
  },
  {
   "cell_type": "code",
   "execution_count": 36,
   "id": "71f81e13",
   "metadata": {},
   "outputs": [
    {
     "name": "stdout",
     "output_type": "stream",
     "text": [
      "Levene's Test for Random: W-statistic=2.347, p-value=0.138\n"
     ]
    }
   ],
   "source": [
    "# Levene's test\n",
    "stat_random, p_value_random = levene(random_budget_2500.flatten(), random_budget_5000.flatten(), random_budget_10000.flatten())\n",
    "print(f\"Levene's Test for Random: W-statistic={stat_random:.3f}, p-value={p_value_random:.3f}\")"
   ]
  },
  {
   "cell_type": "code",
   "execution_count": 37,
   "id": "cb703361",
   "metadata": {},
   "outputs": [
    {
     "name": "stdout",
     "output_type": "stream",
     "text": [
      "One-Way ANOVA for Hybrid: F-statistic=212.360, p-value=0.000\n"
     ]
    }
   ],
   "source": [
    "# One-way ANOVA\n",
    "f_stat_hybrid, p_value_hybrid = f_oneway(random_budget_2500.flatten(), random_budget_5000.flatten(), random_budget_10000.flatten())\n",
    "print(f\"One-Way ANOVA for Hybrid: F-statistic={f_stat_hybrid:.3f}, p-value={p_value_hybrid:.3f}\")\n"
   ]
  },
  {
   "cell_type": "code",
   "execution_count": 38,
   "id": "110afc0c",
   "metadata": {},
   "outputs": [
    {
     "name": "stdout",
     "output_type": "stream",
     "text": [
      "Pooled T-Test (Random 2500 vs 5000 Budget): t-statistic=-7.965, p-value=0.000\n",
      "Pooled T-Test (Random 2500 vs 10000 Budget): t-statistic=-19.650, p-value=0.000\n",
      "Pooled T-Test (Random 5000 vs 10000 Budget): t-statistic=-15.729, p-value=0.000\n"
     ]
    }
   ],
   "source": [
    "# Pooled t-test between Random budgets (2500 and 5000)\n",
    "t_stat_random_2500_5000, p_value_random_2500_5000 = ttest_ind(random_budget_2500.flatten(), random_budget_5000.flatten(), equal_var=True)\n",
    "print(f\"Pooled T-Test (Random 2500 vs 5000 Budget): t-statistic={t_stat_random_2500_5000:.3f}, p-value={p_value_random_2500_5000:.3f}\")\n",
    "\n",
    "# Pooled t-test between Random budgets (2500 and 10000)\n",
    "t_stat_random_2500_10000, p_value_random_2500_10000 = ttest_ind(random_budget_2500.flatten(), random_budget_10000.flatten(), equal_var=True)\n",
    "print(f\"Pooled T-Test (Random 2500 vs 10000 Budget): t-statistic={t_stat_random_2500_10000:.3f}, p-value={p_value_random_2500_10000:.3f}\")\n",
    "\n",
    "# Pooled t-test between Random budgets (5000 and 10000)\n",
    "t_stat_random_5000_10000, p_value_random_5000_10000 = ttest_ind(random_budget_5000.flatten(), random_budget_10000.flatten(), equal_var=True)\n",
    "print(f\"Pooled T-Test (Random 5000 vs 10000 Budget): t-statistic={t_stat_random_5000_10000:.3f}, p-value={p_value_random_5000_10000:.3f}\")"
   ]
  }
 ],
 "metadata": {
  "kernelspec": {
   "display_name": "tf_env",
   "language": "python",
   "name": "python3"
  },
  "language_info": {
   "codemirror_mode": {
    "name": "ipython",
    "version": 3
   },
   "file_extension": ".py",
   "mimetype": "text/x-python",
   "name": "python",
   "nbconvert_exporter": "python",
   "pygments_lexer": "ipython3",
   "version": "3.9.19"
  }
 },
 "nbformat": 4,
 "nbformat_minor": 5
}
