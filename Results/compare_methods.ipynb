{
 "cells": [
  {
   "cell_type": "code",
   "execution_count": null,
   "id": "30488f72",
   "metadata": {},
   "outputs": [],
   "source": [
    "import pandas as pd\n",
    "import numpy as np\n",
    "from statsmodels.stats.anova import AnovaRM\n",
    "import numpy as np\n",
    "from scipy.stats import ttest_rel, wilcoxon, shapiro, levene, kruskal, mannwhitneyu, ttest_ind\n",
    "import os"
   ]
  },
  {
   "cell_type": "code",
   "execution_count": 21,
   "id": "f6ec479c",
   "metadata": {},
   "outputs": [],
   "source": [
    "# Load data\n",
    "path = os.path.join(os.getcwd(), 'Final_results/results_summary.csv')\n",
    "\n",
    "df = pd.read_csv(path)"
   ]
  },
  {
   "cell_type": "code",
   "execution_count": 22,
   "id": "960bdb36",
   "metadata": {},
   "outputs": [
    {
     "data": {
      "text/html": [
       "<div>\n",
       "<style scoped>\n",
       "    .dataframe tbody tr th:only-of-type {\n",
       "        vertical-align: middle;\n",
       "    }\n",
       "\n",
       "    .dataframe tbody tr th {\n",
       "        vertical-align: top;\n",
       "    }\n",
       "\n",
       "    .dataframe thead th {\n",
       "        text-align: right;\n",
       "    }\n",
       "</style>\n",
       "<table border=\"1\" class=\"dataframe\">\n",
       "  <thead>\n",
       "    <tr style=\"text-align: right;\">\n",
       "      <th></th>\n",
       "      <th>Unnamed: 0</th>\n",
       "      <th>Metoda</th>\n",
       "      <th>Budżet</th>\n",
       "      <th>Fold 1</th>\n",
       "      <th>Fold 2</th>\n",
       "      <th>Fold 3</th>\n",
       "      <th>Fold 4</th>\n",
       "      <th>Fold 5</th>\n",
       "      <th>Średnia</th>\n",
       "      <th>Odchylenie std.</th>\n",
       "      <th>Shapiro-Wilk W</th>\n",
       "      <th>Shapiro-Wilk p-value</th>\n",
       "    </tr>\n",
       "  </thead>\n",
       "  <tbody>\n",
       "    <tr>\n",
       "      <th>0</th>\n",
       "      <td>0</td>\n",
       "      <td>sl_with_correction</td>\n",
       "      <td>500–2500</td>\n",
       "      <td>43.06</td>\n",
       "      <td>43.38</td>\n",
       "      <td>43.73</td>\n",
       "      <td>43.89</td>\n",
       "      <td>44.63</td>\n",
       "      <td>43.74</td>\n",
       "      <td>0.53</td>\n",
       "      <td>0.967457</td>\n",
       "      <td>0.858695</td>\n",
       "    </tr>\n",
       "    <tr>\n",
       "      <th>1</th>\n",
       "      <td>1</td>\n",
       "      <td>sl_with_correction</td>\n",
       "      <td>1000–5000</td>\n",
       "      <td>46.00</td>\n",
       "      <td>46.33</td>\n",
       "      <td>43.91</td>\n",
       "      <td>46.27</td>\n",
       "      <td>47.82</td>\n",
       "      <td>46.07</td>\n",
       "      <td>1.25</td>\n",
       "      <td>0.914960</td>\n",
       "      <td>0.497964</td>\n",
       "    </tr>\n",
       "    <tr>\n",
       "      <th>2</th>\n",
       "      <td>2</td>\n",
       "      <td>sl_with_correction</td>\n",
       "      <td>2000–10000</td>\n",
       "      <td>53.82</td>\n",
       "      <td>54.66</td>\n",
       "      <td>52.81</td>\n",
       "      <td>53.03</td>\n",
       "      <td>54.82</td>\n",
       "      <td>53.83</td>\n",
       "      <td>0.78</td>\n",
       "      <td>0.892862</td>\n",
       "      <td>0.371698</td>\n",
       "    </tr>\n",
       "    <tr>\n",
       "      <th>3</th>\n",
       "      <td>3</td>\n",
       "      <td>AL</td>\n",
       "      <td>500–2500</td>\n",
       "      <td>45.41</td>\n",
       "      <td>45.22</td>\n",
       "      <td>45.48</td>\n",
       "      <td>48.67</td>\n",
       "      <td>45.12</td>\n",
       "      <td>45.98</td>\n",
       "      <td>1.35</td>\n",
       "      <td>0.642751</td>\n",
       "      <td>0.002183</td>\n",
       "    </tr>\n",
       "    <tr>\n",
       "      <th>4</th>\n",
       "      <td>4</td>\n",
       "      <td>AL</td>\n",
       "      <td>1000–5000</td>\n",
       "      <td>48.48</td>\n",
       "      <td>51.58</td>\n",
       "      <td>51.35</td>\n",
       "      <td>49.66</td>\n",
       "      <td>54.46</td>\n",
       "      <td>51.11</td>\n",
       "      <td>2.03</td>\n",
       "      <td>0.959802</td>\n",
       "      <td>0.806601</td>\n",
       "    </tr>\n",
       "  </tbody>\n",
       "</table>\n",
       "</div>"
      ],
      "text/plain": [
       "   Unnamed: 0              Metoda      Budżet  Fold 1  Fold 2  Fold 3  Fold 4  \\\n",
       "0           0  sl_with_correction    500–2500   43.06   43.38   43.73   43.89   \n",
       "1           1  sl_with_correction   1000–5000   46.00   46.33   43.91   46.27   \n",
       "2           2  sl_with_correction  2000–10000   53.82   54.66   52.81   53.03   \n",
       "3           3                  AL    500–2500   45.41   45.22   45.48   48.67   \n",
       "4           4                  AL   1000–5000   48.48   51.58   51.35   49.66   \n",
       "\n",
       "   Fold 5  Średnia  Odchylenie std.  Shapiro-Wilk W  Shapiro-Wilk p-value  \n",
       "0   44.63    43.74             0.53        0.967457              0.858695  \n",
       "1   47.82    46.07             1.25        0.914960              0.497964  \n",
       "2   54.82    53.83             0.78        0.892862              0.371698  \n",
       "3   45.12    45.98             1.35        0.642751              0.002183  \n",
       "4   54.46    51.11             2.03        0.959802              0.806601  "
      ]
     },
     "execution_count": 22,
     "metadata": {},
     "output_type": "execute_result"
    }
   ],
   "source": [
    "df.head()"
   ]
  },
  {
   "cell_type": "code",
   "execution_count": 23,
   "id": "5008c1ae",
   "metadata": {},
   "outputs": [],
   "source": [
    "from scipy.stats import shapiro\n",
    "\n",
    "# Shapiro-Wilk test for each row based on fold values\n",
    "df['Shapiro-Wilk W'] = df.apply(\n",
    "    lambda row: shapiro([row['Fold 1'], row['Fold 2'], row['Fold 3'], row['Fold 4'], row['Fold 5']])[0], axis=1\n",
    ")\n",
    "df['Shapiro-Wilk p-value'] = df.apply(\n",
    "    lambda row: shapiro([row['Fold 1'], row['Fold 2'], row['Fold 3'], row['Fold 4'], row['Fold 5']])[1], axis=1\n",
    ")"
   ]
  },
  {
   "cell_type": "code",
   "execution_count": 24,
   "id": "f028a9e0",
   "metadata": {},
   "outputs": [
    {
     "data": {
      "text/html": [
       "<div>\n",
       "<style scoped>\n",
       "    .dataframe tbody tr th:only-of-type {\n",
       "        vertical-align: middle;\n",
       "    }\n",
       "\n",
       "    .dataframe tbody tr th {\n",
       "        vertical-align: top;\n",
       "    }\n",
       "\n",
       "    .dataframe thead th {\n",
       "        text-align: right;\n",
       "    }\n",
       "</style>\n",
       "<table border=\"1\" class=\"dataframe\">\n",
       "  <thead>\n",
       "    <tr style=\"text-align: right;\">\n",
       "      <th></th>\n",
       "      <th>Unnamed: 0</th>\n",
       "      <th>Metoda</th>\n",
       "      <th>Budżet</th>\n",
       "      <th>Fold 1</th>\n",
       "      <th>Fold 2</th>\n",
       "      <th>Fold 3</th>\n",
       "      <th>Fold 4</th>\n",
       "      <th>Fold 5</th>\n",
       "      <th>Średnia</th>\n",
       "      <th>Odchylenie std.</th>\n",
       "      <th>Shapiro-Wilk W</th>\n",
       "      <th>Shapiro-Wilk p-value</th>\n",
       "    </tr>\n",
       "  </thead>\n",
       "  <tbody>\n",
       "    <tr>\n",
       "      <th>0</th>\n",
       "      <td>0</td>\n",
       "      <td>sl_with_correction</td>\n",
       "      <td>500–2500</td>\n",
       "      <td>43.06</td>\n",
       "      <td>43.38</td>\n",
       "      <td>43.73</td>\n",
       "      <td>43.89</td>\n",
       "      <td>44.63</td>\n",
       "      <td>43.74</td>\n",
       "      <td>0.53</td>\n",
       "      <td>0.967457</td>\n",
       "      <td>0.858695</td>\n",
       "    </tr>\n",
       "    <tr>\n",
       "      <th>1</th>\n",
       "      <td>1</td>\n",
       "      <td>sl_with_correction</td>\n",
       "      <td>1000–5000</td>\n",
       "      <td>46.00</td>\n",
       "      <td>46.33</td>\n",
       "      <td>43.91</td>\n",
       "      <td>46.27</td>\n",
       "      <td>47.82</td>\n",
       "      <td>46.07</td>\n",
       "      <td>1.25</td>\n",
       "      <td>0.914960</td>\n",
       "      <td>0.497964</td>\n",
       "    </tr>\n",
       "    <tr>\n",
       "      <th>2</th>\n",
       "      <td>2</td>\n",
       "      <td>sl_with_correction</td>\n",
       "      <td>2000–10000</td>\n",
       "      <td>53.82</td>\n",
       "      <td>54.66</td>\n",
       "      <td>52.81</td>\n",
       "      <td>53.03</td>\n",
       "      <td>54.82</td>\n",
       "      <td>53.83</td>\n",
       "      <td>0.78</td>\n",
       "      <td>0.892862</td>\n",
       "      <td>0.371698</td>\n",
       "    </tr>\n",
       "    <tr>\n",
       "      <th>3</th>\n",
       "      <td>3</td>\n",
       "      <td>AL</td>\n",
       "      <td>500–2500</td>\n",
       "      <td>45.41</td>\n",
       "      <td>45.22</td>\n",
       "      <td>45.48</td>\n",
       "      <td>48.67</td>\n",
       "      <td>45.12</td>\n",
       "      <td>45.98</td>\n",
       "      <td>1.35</td>\n",
       "      <td>0.642751</td>\n",
       "      <td>0.002183</td>\n",
       "    </tr>\n",
       "    <tr>\n",
       "      <th>4</th>\n",
       "      <td>4</td>\n",
       "      <td>AL</td>\n",
       "      <td>1000–5000</td>\n",
       "      <td>48.48</td>\n",
       "      <td>51.58</td>\n",
       "      <td>51.35</td>\n",
       "      <td>49.66</td>\n",
       "      <td>54.46</td>\n",
       "      <td>51.11</td>\n",
       "      <td>2.03</td>\n",
       "      <td>0.959802</td>\n",
       "      <td>0.806601</td>\n",
       "    </tr>\n",
       "    <tr>\n",
       "      <th>5</th>\n",
       "      <td>5</td>\n",
       "      <td>AL</td>\n",
       "      <td>2000–10000</td>\n",
       "      <td>60.13</td>\n",
       "      <td>60.49</td>\n",
       "      <td>59.74</td>\n",
       "      <td>58.19</td>\n",
       "      <td>59.55</td>\n",
       "      <td>59.62</td>\n",
       "      <td>0.79</td>\n",
       "      <td>0.903681</td>\n",
       "      <td>0.430566</td>\n",
       "    </tr>\n",
       "    <tr>\n",
       "      <th>6</th>\n",
       "      <td>6</td>\n",
       "      <td>sl_al_paraller</td>\n",
       "      <td>500–2500</td>\n",
       "      <td>42.29</td>\n",
       "      <td>42.06</td>\n",
       "      <td>42.11</td>\n",
       "      <td>43.10</td>\n",
       "      <td>43.19</td>\n",
       "      <td>42.55</td>\n",
       "      <td>0.49</td>\n",
       "      <td>0.807712</td>\n",
       "      <td>0.093513</td>\n",
       "    </tr>\n",
       "    <tr>\n",
       "      <th>7</th>\n",
       "      <td>7</td>\n",
       "      <td>sl_al_paraller</td>\n",
       "      <td>1000–5000</td>\n",
       "      <td>49.78</td>\n",
       "      <td>49.61</td>\n",
       "      <td>49.52</td>\n",
       "      <td>49.75</td>\n",
       "      <td>49.86</td>\n",
       "      <td>49.70</td>\n",
       "      <td>0.12</td>\n",
       "      <td>0.951596</td>\n",
       "      <td>0.748584</td>\n",
       "    </tr>\n",
       "    <tr>\n",
       "      <th>8</th>\n",
       "      <td>8</td>\n",
       "      <td>sl_al_paraller</td>\n",
       "      <td>2000–10000</td>\n",
       "      <td>57.65</td>\n",
       "      <td>57.83</td>\n",
       "      <td>57.64</td>\n",
       "      <td>56.05</td>\n",
       "      <td>59.16</td>\n",
       "      <td>57.67</td>\n",
       "      <td>0.99</td>\n",
       "      <td>0.916443</td>\n",
       "      <td>0.507261</td>\n",
       "    </tr>\n",
       "    <tr>\n",
       "      <th>9</th>\n",
       "      <td>9</td>\n",
       "      <td>random_al</td>\n",
       "      <td>500–2500</td>\n",
       "      <td>41.38</td>\n",
       "      <td>40.40</td>\n",
       "      <td>40.63</td>\n",
       "      <td>43.70</td>\n",
       "      <td>43.16</td>\n",
       "      <td>42.65</td>\n",
       "      <td>1.35</td>\n",
       "      <td>0.878420</td>\n",
       "      <td>0.302211</td>\n",
       "    </tr>\n",
       "    <tr>\n",
       "      <th>10</th>\n",
       "      <td>10</td>\n",
       "      <td>random_al</td>\n",
       "      <td>1000–5000</td>\n",
       "      <td>48.23</td>\n",
       "      <td>47.30</td>\n",
       "      <td>47.11</td>\n",
       "      <td>49.06</td>\n",
       "      <td>49.14</td>\n",
       "      <td>48.17</td>\n",
       "      <td>0.85</td>\n",
       "      <td>0.870071</td>\n",
       "      <td>0.266711</td>\n",
       "    </tr>\n",
       "    <tr>\n",
       "      <th>11</th>\n",
       "      <td>11</td>\n",
       "      <td>random_al</td>\n",
       "      <td>2000–10000</td>\n",
       "      <td>55.83</td>\n",
       "      <td>55.62</td>\n",
       "      <td>55.42</td>\n",
       "      <td>55.05</td>\n",
       "      <td>56.33</td>\n",
       "      <td>55.65</td>\n",
       "      <td>0.43</td>\n",
       "      <td>0.992650</td>\n",
       "      <td>0.988103</td>\n",
       "    </tr>\n",
       "  </tbody>\n",
       "</table>\n",
       "</div>"
      ],
      "text/plain": [
       "    Unnamed: 0              Metoda      Budżet  Fold 1  Fold 2  Fold 3  \\\n",
       "0            0  sl_with_correction    500–2500   43.06   43.38   43.73   \n",
       "1            1  sl_with_correction   1000–5000   46.00   46.33   43.91   \n",
       "2            2  sl_with_correction  2000–10000   53.82   54.66   52.81   \n",
       "3            3                  AL    500–2500   45.41   45.22   45.48   \n",
       "4            4                  AL   1000–5000   48.48   51.58   51.35   \n",
       "5            5                  AL  2000–10000   60.13   60.49   59.74   \n",
       "6            6      sl_al_paraller    500–2500   42.29   42.06   42.11   \n",
       "7            7      sl_al_paraller   1000–5000   49.78   49.61   49.52   \n",
       "8            8      sl_al_paraller  2000–10000   57.65   57.83   57.64   \n",
       "9            9           random_al    500–2500   41.38   40.40   40.63   \n",
       "10          10           random_al   1000–5000   48.23   47.30   47.11   \n",
       "11          11           random_al  2000–10000   55.83   55.62   55.42   \n",
       "\n",
       "    Fold 4  Fold 5  Średnia  Odchylenie std.  Shapiro-Wilk W  \\\n",
       "0    43.89   44.63    43.74             0.53        0.967457   \n",
       "1    46.27   47.82    46.07             1.25        0.914960   \n",
       "2    53.03   54.82    53.83             0.78        0.892862   \n",
       "3    48.67   45.12    45.98             1.35        0.642751   \n",
       "4    49.66   54.46    51.11             2.03        0.959802   \n",
       "5    58.19   59.55    59.62             0.79        0.903681   \n",
       "6    43.10   43.19    42.55             0.49        0.807712   \n",
       "7    49.75   49.86    49.70             0.12        0.951596   \n",
       "8    56.05   59.16    57.67             0.99        0.916443   \n",
       "9    43.70   43.16    42.65             1.35        0.878420   \n",
       "10   49.06   49.14    48.17             0.85        0.870071   \n",
       "11   55.05   56.33    55.65             0.43        0.992650   \n",
       "\n",
       "    Shapiro-Wilk p-value  \n",
       "0               0.858695  \n",
       "1               0.497964  \n",
       "2               0.371698  \n",
       "3               0.002183  \n",
       "4               0.806601  \n",
       "5               0.430566  \n",
       "6               0.093513  \n",
       "7               0.748584  \n",
       "8               0.507261  \n",
       "9               0.302211  \n",
       "10              0.266711  \n",
       "11              0.988103  "
      ]
     },
     "execution_count": 24,
     "metadata": {},
     "output_type": "execute_result"
    }
   ],
   "source": [
    "df"
   ]
  },
  {
   "cell_type": "code",
   "execution_count": 25,
   "id": "a791f44a",
   "metadata": {},
   "outputs": [],
   "source": [
    "# Extract results for each method and budget\n",
    "sl_budget_2500 = df[(df['Metoda'] == 'sl_with_correction') & (df['Budżet'] == '500–2500')].filter(regex=r'^Fold').values\n",
    "sl_budget_5000 = df[(df['Metoda'] == 'sl_with_correction') & (df['Budżet'] == '1000–5000')].filter(regex=r'^Fold').values\n",
    "sl_budget_10000 = df[(df['Metoda'] == 'sl_with_correction') & (df['Budżet'] == '2000–10000')].filter(regex=r'^Fold').values\n",
    "\n",
    "al_budget_2500 = df[(df['Metoda'] == 'AL') & (df['Budżet'] == '500–2500')].filter(regex=r'^Fold').values\n",
    "al_budget_5000 = df[(df['Metoda'] == 'AL') & (df['Budżet'] == '1000–5000')].filter(regex=r'^Fold').values\n",
    "al_budget_10000 = df[(df['Metoda'] == 'AL') & (df['Budżet'] == '2000–10000')].filter(regex=r'^Fold').values\n",
    "\n",
    "hybrid_budget_2500 = df[(df['Metoda'] == 'sl_al_paraller') & (df['Budżet'] == '500–2500')].filter(regex=r'^Fold').values\n",
    "hybrid_budget_5000 = df[(df['Metoda'] == 'sl_al_paraller') & (df['Budżet'] == '1000–5000')].filter(regex=r'^Fold').values\n",
    "hybrid_budget_10000 = df[(df['Metoda'] == 'sl_al_paraller') & (df['Budżet'] == '2000–10000')].filter(regex=r'^Fold').values\n",
    "\n",
    "random_budget_2500 = df[(df['Metoda'] == 'random_al') & (df['Budżet'] == '500–2500')].filter(regex=r'^Fold').values\n",
    "random_budget_5000 = df[(df['Metoda'] == 'random_al') & (df['Budżet'] == '1000–5000')].filter(regex=r'^Fold').values\n",
    "random_budget_10000 = df[(df['Metoda'] == 'random_al') & (df['Budżet'] == '2000–10000')].filter(regex=r'^Fold').values"
   ]
  },
  {
   "cell_type": "markdown",
   "id": "6ddf342d",
   "metadata": {},
   "source": [
    "# 2500 budget"
   ]
  },
  {
   "cell_type": "markdown",
   "id": "777504f7",
   "metadata": {},
   "source": [
    "### Chceck normality"
   ]
  },
  {
   "cell_type": "code",
   "execution_count": 26,
   "id": "60c10c6f",
   "metadata": {},
   "outputs": [
    {
     "name": "stdout",
     "output_type": "stream",
     "text": [
      "Shapiro–Wilk (AL): W=0.643, p=0.002\n",
      "Shapiro–Wilk (SL): W=0.967, p=0.859\n",
      "Shapiro–Wilk (Hybrid): W=0.808, p=0.094\n",
      "Shapiro–Wilk (Random): W=0.878, p=0.302\n"
     ]
    }
   ],
   "source": [
    "# al_budget_2500\n",
    "stat, p_al = shapiro(al_budget_2500.flatten())\n",
    "print(f\"Shapiro–Wilk (AL): W={stat:.3f}, p={p_al:.3f}\")\n",
    "\n",
    "# sl_budget_2500\n",
    "stat, p_sl = shapiro(sl_budget_2500.flatten())\n",
    "print(f\"Shapiro–Wilk (SL): W={stat:.3f}, p={p_sl:.3f}\")\n",
    "\n",
    "# hybrid_budget_2500\n",
    "stat, p_hybrid = shapiro(hybrid_budget_2500.flatten())\n",
    "print(f\"Shapiro–Wilk (Hybrid): W={stat:.3f}, p={p_hybrid:.3f}\")\n",
    "\n",
    "# random_budget_2500\n",
    "stat, p_random = shapiro(random_budget_2500.flatten())\n",
    "print(f\"Shapiro–Wilk (Random): W={stat:.3f}, p={p_random:.3f}\")"
   ]
  },
  {
   "cell_type": "code",
   "execution_count": null,
   "id": "0b2cf221",
   "metadata": {},
   "outputs": [
    {
     "name": "stdout",
     "output_type": "stream",
     "text": [
      "Kruskal-Wallis Test (2500 Budget): H-statistic=14.246, p-value=0.003\n"
     ]
    }
   ],
   "source": [
    "# Kruskal-Wallis test for 2500 budget\n",
    "stat, p_value = kruskal(sl_budget_2500.flatten(), al_budget_2500.flatten(), hybrid_budget_2500.flatten(), random_budget_2500.flatten())\n",
    "print(f\"Kruskal-Wallis Test (2500 Budget): H-statistic={stat:.3f}, p-value={p_value:.3f}\")"
   ]
  },
  {
   "cell_type": "code",
   "execution_count": null,
   "id": "a8cc5a18",
   "metadata": {},
   "outputs": [
    {
     "name": "stdout",
     "output_type": "stream",
     "text": [
      "Mann-Whitney U Test (SL vs AL, 2500 Budget): U-statistic=0.000, p-value=0.008\n",
      "Mann-Whitney U Test (AL vs Hybrid, 2500 Budget): U-statistic=25.000, p-value=0.008\n",
      "Mann-Whitney U Test (AL vs Random, 2500 Budget): U-statistic=25.000, p-value=0.008\n"
     ]
    }
   ],
   "source": [
    "# Mann-Whitney U test between SL and AL for budget 2500\n",
    "u_stat_sl_al, p_value_sl_al = mannwhitneyu(sl_budget_2500.flatten(), al_budget_2500.flatten())\n",
    "print(f\"Mann-Whitney U Test (SL vs AL, 2500 Budget): U-statistic={u_stat_sl_al:.3f}, p-value={p_value_sl_al:.3f}\")\n",
    "\n",
    "# Mann-Whitney U test between SL and Hybrid for budget 2500\n",
    "# u_stat_sl_hybrid, p_value_sl_hybrid = mannwhitneyu(sl_budget_2500.flatten(), hybrid_budget_2500.flatten())\n",
    "# print(f\"Mann-Whitney U Test (SL vs Hybrid, 2500 Budget): U-statistic={u_stat_sl_hybrid:.3f}, p-value={p_value_sl_hybrid:.3f}\")\n",
    "\n",
    "#  Mann-Whitney U test between AL and Hybrid for budget 2500\n",
    "u_stat_al_hybrid, p_value_al_hybrid = mannwhitneyu(al_budget_2500.flatten(), hybrid_budget_2500.flatten())\n",
    "print(f\"Mann-Whitney U Test (AL vs Hybrid, 2500 Budget): U-statistic={u_stat_al_hybrid:.3f}, p-value={p_value_al_hybrid:.3f}\")\n",
    "\n",
    "# Mann-Whitney U test between SL and Random for budget 2500\n",
    "# u_stat_sl_random, p_value_sl_random = mannwhitneyu(sl_budget_2500.flatten(), random_budget_2500.flatten())\n",
    "# print(f\"Mann-Whitney U Test (SL vs Random, 2500 Budget): U-statistic={u_stat_sl_random:.3f}, p-value={p_value_sl_random:.3f}\")\n",
    "\n",
    "# Mann-Whitney U test between AL and Random for budget 2500\n",
    "u_stat_al_random, p_value_al_random = mannwhitneyu(al_budget_2500.flatten(), random_budget_2500.flatten())\n",
    "print(f\"Mann-Whitney U Test (AL vs Random, 2500 Budget): U-statistic={u_stat_al_random:.3f}, p-value={p_value_al_random:.3f}\")\n",
    "\n",
    "# Mann-Whitney U test between Hybrid and Random for budget 2500\n",
    "# u_stat_hybrid_random, p_value_hybrid_random = mannwhitneyu(hybrid_budget_2500.flatten(), random_budget_2500.flatten())\n",
    "# print(f\"Mann-Whitney U Test (Hybrid vs Random, 2500 Budget): U-statistic={u_stat_hybrid_random:.3f}, p-value={p_value_hybrid_random:.3f}\")"
   ]
  },
  {
   "cell_type": "code",
   "execution_count": null,
   "id": "628a209d",
   "metadata": {},
   "outputs": [
    {
     "name": "stdout",
     "output_type": "stream",
     "text": [
      "Levene's Test (SL vs Hybrid, 2500 Budget): W-statistic=0.001, p-value=0.975\n",
      "Levene's Test (SL vs Random, 2500 Budget): W-statistic=2.947, p-value=0.124\n",
      "Levene's Test (Hybrid vs Random, 2500 Budget): W-statistic=2.803, p-value=0.133\n"
     ]
    }
   ],
   "source": [
    "from scipy.stats import levene\n",
    "\n",
    "# #  Levene's test for variance equality between each group for 2500 budget\n",
    "# stat_sl_al, p_value_sl_al = levene(sl_budget_2500.flatten(), al_budget_2500.flatten())\n",
    "# print(f\"Levene's Test (SL vs AL, 2500 Budget): W-statistic={stat_sl_al:.3f}, p-value={p_value_sl_al:.3f}\")\n",
    "\n",
    "stat_sl_hybrid, p_value_sl_hybrid = levene(sl_budget_2500.flatten(), hybrid_budget_2500.flatten())\n",
    "print(f\"Levene's Test (SL vs Hybrid, 2500 Budget): W-statistic={stat_sl_hybrid:.3f}, p-value={p_value_sl_hybrid:.3f}\")\n",
    "\n",
    "stat_sl_random, p_value_sl_random = levene(sl_budget_2500.flatten(), random_budget_2500.flatten())\n",
    "print(f\"Levene's Test (SL vs Random, 2500 Budget): W-statistic={stat_sl_random:.3f}, p-value={p_value_sl_random:.3f}\")\n",
    "\n",
    "# stat_al_hybrid, p_value_al_hybrid = levene(al_budget_2500.flatten(), hybrid_budget_2500.flatten())\n",
    "# print(f\"Levene's Test (AL vs Hybrid, 2500 Budget): W-statistic={stat_al_hybrid:.3f}, p-value={p_value_al_hybrid:.3f}\")\n",
    "\n",
    "# stat_al_random, p_value_al_random = levene(al_budget_2500.flatten(), random_budget_2500.flatten())\n",
    "# print(f\"Levene's Test (AL vs Random, 2500 Budget): W-statistic={stat_al_random:.3f}, p-value={p_value_al_random:.3f}\")\n",
    "\n",
    "stat_hybrid_random, p_value_hybrid_random = levene(hybrid_budget_2500.flatten(), random_budget_2500.flatten())\n",
    "print(f\"Levene's Test (Hybrid vs Random, 2500 Budget): W-statistic={stat_hybrid_random:.3f}, p-value={p_value_hybrid_random:.3f}\")"
   ]
  },
  {
   "cell_type": "code",
   "execution_count": null,
   "id": "19024ada",
   "metadata": {},
   "outputs": [
    {
     "name": "stdout",
     "output_type": "stream",
     "text": [
      "Pooled T-Test (SL vs Hybrid, 2500 Budget): t-statistic=3.282, p-value=0.011\n",
      "Pooled T-Test (SL vs Random, 2500 Budget): t-statistic=2.618, p-value=0.031\n",
      "Pooled T-Test (Hybrid vs Random, 2500 Budget): t-statistic=0.976, p-value=0.357\n"
     ]
    }
   ],
   "source": [
    "# pooled t-test between SL and Hybrid for budget 2500\n",
    "t_stat_sl_hybrid_2500, p_value_sl_hybrid_2500 = ttest_ind(sl_budget_2500.flatten(), hybrid_budget_2500.flatten(), equal_var=True)\n",
    "print(f\"Pooled T-Test (SL vs Hybrid, 2500 Budget): t-statistic={t_stat_sl_hybrid_2500:.3f}, p-value={p_value_sl_hybrid_2500:.3f}\")\n",
    "\n",
    "# pooled t-test between SL and Random for budget 2500\n",
    "t_stat_sl_random_2500, p_value_sl_random_2500 = ttest_ind(sl_budget_2500.flatten(), random_budget_2500.flatten(), equal_var=True)\n",
    "print(f\"Pooled T-Test (SL vs Random, 2500 Budget): t-statistic={t_stat_sl_random_2500:.3f}, p-value={p_value_sl_random_2500:.3f}\")\n",
    "\n",
    "# pooled t-test between Hybrid and Random for budget 2500\n",
    "t_stat_hybrid_random_2500, p_value_hybrid_random_2500 = ttest_ind(hybrid_budget_2500.flatten(), random_budget_2500.flatten(), equal_var=True)\n",
    "print(f\"Pooled T-Test (Hybrid vs Random, 2500 Budget): t-statistic={t_stat_hybrid_random_2500:.3f}, p-value={p_value_hybrid_random_2500:.3f}\")"
   ]
  },
  {
   "cell_type": "markdown",
   "id": "51204fee",
   "metadata": {},
   "source": [
    "p-value<0.05 dla metod AL i SL, zatem odrzucamy h0, i przyjumujemy h1. Metody różnią się dokładnościa dla b=2500 "
   ]
  },
  {
   "cell_type": "markdown",
   "id": "fa6b8b6c",
   "metadata": {},
   "source": [
    "W przypadku b=2500 nie ma roznic miedzy metdoda lososwa i hybrydowa oraz lososwa i sl z korekcja"
   ]
  },
  {
   "cell_type": "markdown",
   "id": "5be48c1f",
   "metadata": {},
   "source": [
    "# 5000 Budget"
   ]
  },
  {
   "cell_type": "markdown",
   "id": "2b0bccfd",
   "metadata": {},
   "source": [
    "HO: The samples are drwn from the population that follows normal distribution. \n",
    "H1: The samples are drawn from the population that does not follow normal distribution."
   ]
  },
  {
   "cell_type": "code",
   "execution_count": 43,
   "id": "b8579cec",
   "metadata": {},
   "outputs": [
    {
     "name": "stdout",
     "output_type": "stream",
     "text": [
      "Shapiro–Wilk (AL, 5000 Budget): W=0.960, p=0.807\n",
      "Shapiro–Wilk (SL, 5000 Budget): W=0.915, p=0.498\n",
      "Shapiro–Wilk (Hybrid, 5000 Budget): W=0.952, p=0.749\n",
      "Shapiro–Wilk (Random, 5000 Budget): W=0.870, p=0.267\n"
     ]
    }
   ],
   "source": [
    "# Normality check for al_budget_5000\n",
    "stat, p_al_5000 = shapiro(al_budget_5000.flatten())\n",
    "print(f\"Shapiro–Wilk (AL, 5000 Budget): W={stat:.3f}, p={p_al_5000:.3f}\")\n",
    "\n",
    "# Normality check for sl_budget_5000\n",
    "stat, p_sl_5000 = shapiro(sl_budget_5000.flatten())\n",
    "print(f\"Shapiro–Wilk (SL, 5000 Budget): W={stat:.3f}, p={p_sl_5000:.3f}\")\n",
    "\n",
    "# Normality check for hybrid_budget_5000\n",
    "stat, p_hybrid_5000 = shapiro(hybrid_budget_5000.flatten())\n",
    "print(f\"Shapiro–Wilk (Hybrid, 5000 Budget): W={stat:.3f}, p={p_hybrid_5000:.3f}\")\n",
    "\n",
    "# Normality check for random_budget_5000\n",
    "stat, p_random_5000 = shapiro(random_budget_5000.flatten())\n",
    "print(f\"Shapiro–Wilk (Random, 5000 Budget): W={stat:.3f}, p={p_random_5000:.3f}\")"
   ]
  },
  {
   "cell_type": "markdown",
   "id": "10453e12",
   "metadata": {},
   "source": [
    "p-vale > 0.05 so the H0 hypothesis is accepted, meaning the data is normally distributed."
   ]
  },
  {
   "cell_type": "code",
   "execution_count": 44,
   "id": "06b796b3",
   "metadata": {},
   "outputs": [
    {
     "name": "stdout",
     "output_type": "stream",
     "text": [
      "Levene's Test (500 Budget): W-statistic=2.155, p-value=0.133\n"
     ]
    }
   ],
   "source": [
    "from scipy.stats import levene\n",
    "\n",
    "# Compare variances for 500 budget\n",
    "stat_500, p_value_500 = levene(sl_budget_5000.flatten(), al_budget_5000.flatten(), hybrid_budget_5000.flatten(), random_budget_5000.flatten())\n",
    "print(f\"Levene's Test (500 Budget): W-statistic={stat_500:.3f}, p-value={p_value_500:.3f}\")"
   ]
  },
  {
   "cell_type": "markdown",
   "id": "75c52b72",
   "metadata": {},
   "source": [
    "H0>0.05 the H0 is accpeted, varainces are equals"
   ]
  },
  {
   "cell_type": "code",
   "execution_count": null,
   "id": "39fe5ed4",
   "metadata": {},
   "outputs": [
    {
     "name": "stdout",
     "output_type": "stream",
     "text": [
      "One-Way ANOVA (5000 Budget): F-statistic=11.650, p-value=0.00027\n"
     ]
    }
   ],
   "source": [
    "from scipy.stats import f_oneway\n",
    "\n",
    "#  one-way ANOVA for budget 5000\n",
    "f_stat, p_value_anova = f_oneway(sl_budget_5000.flatten(), al_budget_5000.flatten(), hybrid_budget_5000.flatten(), random_budget_5000.flatten())\n",
    "print(f\"One-Way ANOVA (5000 Budget): F-statistic={f_stat:.3f}, p-value={p_value_anova:.5f}\")"
   ]
  },
  {
   "cell_type": "markdown",
   "id": "5c167a46",
   "metadata": {},
   "source": [
    "p-value<0.05, so the H0 is rejected and H1 is accpeted, meaning the the accurracy is different accoross the groups"
   ]
  },
  {
   "cell_type": "code",
   "execution_count": null,
   "id": "05845560",
   "metadata": {},
   "outputs": [
    {
     "name": "stdout",
     "output_type": "stream",
     "text": [
      "Pooled T-Test (SL vs AL, 5000 Budget): t-statistic=-4.232, p-value=0.003\n",
      "Pooled T-Test (SL vs Hybrid, 5000 Budget): t-statistic=-5.783, p-value=0.000\n",
      "Pooled T-Test (AL vs Hybrid, 5000 Budget): t-statistic=1.382, p-value=0.204\n",
      "Pooled T-Test (SL vs Random, 5000 Budget): t-statistic=-2.777, p-value=0.024\n",
      "Pooled T-Test (AL vs Random, 5000 Budget): t-statistic=2.674, p-value=0.028\n",
      "Pooled T-Test (Hybrid vs Random, 5000 Budget): t-statistic=3.575, p-value=0.007\n"
     ]
    }
   ],
   "source": [
    "# Post-hoc analysis\n",
    "from scipy.stats import ttest_ind\n",
    "\n",
    "#  pooled t-test between SL and AL for budget 5000\n",
    "t_stat_sl_al, p_value_sl_al = ttest_ind(sl_budget_5000.flatten(), al_budget_5000.flatten(), equal_var=True)\n",
    "print(f\"Pooled T-Test (SL vs AL, 5000 Budget): t-statistic={t_stat_sl_al:.3f}, p-value={p_value_sl_al:.3f}\")\n",
    "\n",
    "#  pooled t-test between SL and Hybrid for budget 5000\n",
    "t_stat_sl_hybrid, p_value_sl_hybrid = ttest_ind(sl_budget_5000.flatten(), hybrid_budget_5000.flatten(), equal_var=True)\n",
    "print(f\"Pooled T-Test (SL vs Hybrid, 5000 Budget): t-statistic={t_stat_sl_hybrid:.3f}, p-value={p_value_sl_hybrid:.3f}\")\n",
    "\n",
    "#  pooled t-test between AL and Hybrid for budget 5000\n",
    "t_stat_al_hybrid, p_value_al_hybrid = ttest_ind(al_budget_5000.flatten(), hybrid_budget_5000.flatten(), equal_var=True)\n",
    "print(f\"Pooled T-Test (AL vs Hybrid, 5000 Budget): t-statistic={t_stat_al_hybrid:.3f}, p-value={p_value_al_hybrid:.3f}\")\n",
    "\n",
    "#  pooled t-test between SL and Random for budget 5000\n",
    "t_stat_sl_random, p_value_sl_random = ttest_ind(sl_budget_5000.flatten(), random_budget_5000.flatten(), equal_var=True)\n",
    "print(f\"Pooled T-Test (SL vs Random, 5000 Budget): t-statistic={t_stat_sl_random:.3f}, p-value={p_value_sl_random:.3f}\")\n",
    "\n",
    "#  pooled t-test between AL and Random for budget 5000\n",
    "t_stat_al_random, p_value_al_random = ttest_ind(al_budget_5000.flatten(), random_budget_5000.flatten(), equal_var=True)\n",
    "print(f\"Pooled T-Test (AL vs Random, 5000 Budget): t-statistic={t_stat_al_random:.3f}, p-value={p_value_al_random:.3f}\")\n",
    "\n",
    "#  pooled t-test between Hybrid and Random for budget 5000\n",
    "t_stat_hybrid_random, p_value_hybrid_random = ttest_ind(hybrid_budget_5000.flatten(), random_budget_5000.flatten(), equal_var=True)\n",
    "print(f\"Pooled T-Test (Hybrid vs Random, 5000 Budget): t-statistic={t_stat_hybrid_random:.3f}, p-value={p_value_hybrid_random:.3f}\")"
   ]
  },
  {
   "cell_type": "markdown",
   "id": "93c71946",
   "metadata": {},
   "source": [
    "For SL and AL and SL and hybrid there are staitically difreneces p-value<0.05, so the H0 is rejected and H1 is accepted, meaning the the accurracy is different accoross the groups. For the Hybrid and AL tehere are no staistailly difrencess"
   ]
  },
  {
   "cell_type": "markdown",
   "id": "583ff194",
   "metadata": {},
   "source": [
    "Losowa rozni sie od wszystkich"
   ]
  },
  {
   "cell_type": "code",
   "execution_count": 21,
   "id": "a75e5143",
   "metadata": {},
   "outputs": [
    {
     "data": {
      "text/html": [
       "<div>\n",
       "<style scoped>\n",
       "    .dataframe tbody tr th:only-of-type {\n",
       "        vertical-align: middle;\n",
       "    }\n",
       "\n",
       "    .dataframe tbody tr th {\n",
       "        vertical-align: top;\n",
       "    }\n",
       "\n",
       "    .dataframe thead th {\n",
       "        text-align: right;\n",
       "    }\n",
       "</style>\n",
       "<table border=\"1\" class=\"dataframe\">\n",
       "  <thead>\n",
       "    <tr style=\"text-align: right;\">\n",
       "      <th></th>\n",
       "      <th>Metoda</th>\n",
       "      <th>Budżet</th>\n",
       "      <th>Fold 1</th>\n",
       "      <th>Fold 2</th>\n",
       "      <th>Fold 3</th>\n",
       "      <th>Fold 4</th>\n",
       "      <th>Fold 5</th>\n",
       "      <th>Średnia</th>\n",
       "      <th>Odchylenie std.</th>\n",
       "    </tr>\n",
       "  </thead>\n",
       "  <tbody>\n",
       "    <tr>\n",
       "      <th>0</th>\n",
       "      <td>sl_with_correction</td>\n",
       "      <td>500–2500</td>\n",
       "      <td>43.06</td>\n",
       "      <td>43.38</td>\n",
       "      <td>43.73</td>\n",
       "      <td>43.89</td>\n",
       "      <td>44.63</td>\n",
       "      <td>43.74</td>\n",
       "      <td>0.53</td>\n",
       "    </tr>\n",
       "    <tr>\n",
       "      <th>1</th>\n",
       "      <td>sl_with_correction</td>\n",
       "      <td>1000–5000</td>\n",
       "      <td>46.00</td>\n",
       "      <td>46.33</td>\n",
       "      <td>43.91</td>\n",
       "      <td>46.27</td>\n",
       "      <td>47.82</td>\n",
       "      <td>46.07</td>\n",
       "      <td>1.25</td>\n",
       "    </tr>\n",
       "    <tr>\n",
       "      <th>2</th>\n",
       "      <td>sl_with_correction</td>\n",
       "      <td>2000–10000</td>\n",
       "      <td>53.82</td>\n",
       "      <td>54.66</td>\n",
       "      <td>52.81</td>\n",
       "      <td>53.03</td>\n",
       "      <td>54.82</td>\n",
       "      <td>53.83</td>\n",
       "      <td>0.78</td>\n",
       "    </tr>\n",
       "    <tr>\n",
       "      <th>3</th>\n",
       "      <td>AL</td>\n",
       "      <td>500–2500</td>\n",
       "      <td>45.41</td>\n",
       "      <td>45.22</td>\n",
       "      <td>45.48</td>\n",
       "      <td>48.67</td>\n",
       "      <td>45.12</td>\n",
       "      <td>45.98</td>\n",
       "      <td>1.35</td>\n",
       "    </tr>\n",
       "    <tr>\n",
       "      <th>4</th>\n",
       "      <td>AL</td>\n",
       "      <td>1000–5000</td>\n",
       "      <td>48.48</td>\n",
       "      <td>51.58</td>\n",
       "      <td>51.35</td>\n",
       "      <td>49.66</td>\n",
       "      <td>54.46</td>\n",
       "      <td>51.11</td>\n",
       "      <td>2.03</td>\n",
       "    </tr>\n",
       "    <tr>\n",
       "      <th>5</th>\n",
       "      <td>AL</td>\n",
       "      <td>2000–10000</td>\n",
       "      <td>60.13</td>\n",
       "      <td>60.49</td>\n",
       "      <td>59.74</td>\n",
       "      <td>58.19</td>\n",
       "      <td>59.55</td>\n",
       "      <td>59.62</td>\n",
       "      <td>0.79</td>\n",
       "    </tr>\n",
       "    <tr>\n",
       "      <th>6</th>\n",
       "      <td>sl_al_paraller</td>\n",
       "      <td>500–2500</td>\n",
       "      <td>44.15</td>\n",
       "      <td>43.79</td>\n",
       "      <td>46.28</td>\n",
       "      <td>44.51</td>\n",
       "      <td>41.80</td>\n",
       "      <td>44.11</td>\n",
       "      <td>1.44</td>\n",
       "    </tr>\n",
       "    <tr>\n",
       "      <th>7</th>\n",
       "      <td>sl_al_paraller</td>\n",
       "      <td>1000–5000</td>\n",
       "      <td>48.54</td>\n",
       "      <td>49.44</td>\n",
       "      <td>49.79</td>\n",
       "      <td>50.94</td>\n",
       "      <td>50.65</td>\n",
       "      <td>49.87</td>\n",
       "      <td>0.86</td>\n",
       "    </tr>\n",
       "    <tr>\n",
       "      <th>8</th>\n",
       "      <td>sl_al_paraller</td>\n",
       "      <td>2000–10000</td>\n",
       "      <td>56.81</td>\n",
       "      <td>58.85</td>\n",
       "      <td>60.09</td>\n",
       "      <td>59.44</td>\n",
       "      <td>59.98</td>\n",
       "      <td>59.03</td>\n",
       "      <td>1.20</td>\n",
       "    </tr>\n",
       "  </tbody>\n",
       "</table>\n",
       "</div>"
      ],
      "text/plain": [
       "               Metoda      Budżet  Fold 1  Fold 2  Fold 3  Fold 4  Fold 5  \\\n",
       "0  sl_with_correction    500–2500   43.06   43.38   43.73   43.89   44.63   \n",
       "1  sl_with_correction   1000–5000   46.00   46.33   43.91   46.27   47.82   \n",
       "2  sl_with_correction  2000–10000   53.82   54.66   52.81   53.03   54.82   \n",
       "3                  AL    500–2500   45.41   45.22   45.48   48.67   45.12   \n",
       "4                  AL   1000–5000   48.48   51.58   51.35   49.66   54.46   \n",
       "5                  AL  2000–10000   60.13   60.49   59.74   58.19   59.55   \n",
       "6      sl_al_paraller    500–2500   44.15   43.79   46.28   44.51   41.80   \n",
       "7      sl_al_paraller   1000–5000   48.54   49.44   49.79   50.94   50.65   \n",
       "8      sl_al_paraller  2000–10000   56.81   58.85   60.09   59.44   59.98   \n",
       "\n",
       "   Średnia  Odchylenie std.  \n",
       "0    43.74             0.53  \n",
       "1    46.07             1.25  \n",
       "2    53.83             0.78  \n",
       "3    45.98             1.35  \n",
       "4    51.11             2.03  \n",
       "5    59.62             0.79  \n",
       "6    44.11             1.44  \n",
       "7    49.87             0.86  \n",
       "8    59.03             1.20  "
      ]
     },
     "execution_count": 21,
     "metadata": {},
     "output_type": "execute_result"
    }
   ],
   "source": [
    "pd.DataFrame(data)"
   ]
  },
  {
   "cell_type": "markdown",
   "id": "014a3995",
   "metadata": {},
   "source": [
    "As the mean accurracy of SL and hybird is greater than SL, the inference is that SL is the worst than this 2 methods "
   ]
  },
  {
   "cell_type": "markdown",
   "id": "5e846910",
   "metadata": {},
   "source": [
    "nce p = 0.475 > 0.05, you fail to reject H₀. In other words, there’s no statistically significant difference in mean ance among your three techniques at the 5% level."
   ]
  },
  {
   "cell_type": "markdown",
   "id": "9d25dc2b",
   "metadata": {},
   "source": [
    "# 10000 Budget"
   ]
  },
  {
   "cell_type": "code",
   "execution_count": 47,
   "id": "9e21e269",
   "metadata": {},
   "outputs": [
    {
     "name": "stdout",
     "output_type": "stream",
     "text": [
      "Shapiro–Wilk (AL, 10000 Budget): W=0.904, p=0.431\n",
      "Shapiro–Wilk (SL, 10000 Budget): W=0.893, p=0.372\n",
      "Shapiro–Wilk (Hybrid, 10000 Budget): W=0.916, p=0.507\n",
      "Shapiro–Wilk (Random, 10000 Budget): W=0.993, p=0.988\n"
     ]
    }
   ],
   "source": [
    "# Normality check for al_budget_10000\n",
    "stat, p_al_10000 = shapiro(al_budget_10000.flatten())\n",
    "print(f\"Shapiro–Wilk (AL, 10000 Budget): W={stat:.3f}, p={p_al_10000:.3f}\")\n",
    "\n",
    "# Normality check for sl_budget_10000\n",
    "stat, p_sl_10000 = shapiro(sl_budget_10000.flatten())\n",
    "print(f\"Shapiro–Wilk (SL, 10000 Budget): W={stat:.3f}, p={p_sl_10000:.3f}\")\n",
    "\n",
    "# Normality check for hybrid_budget_10000\n",
    "stat, p_hybrid_10000 = shapiro(hybrid_budget_10000.flatten())\n",
    "print(f\"Shapiro–Wilk (Hybrid, 10000 Budget): W={stat:.3f}, p={p_hybrid_10000:.3f}\")\n",
    "\n",
    "# Normality check for random_budget_10000\n",
    "stat, p_random_10000 = shapiro(random_budget_10000.flatten())\n",
    "print(f\"Shapiro–Wilk (Random, 10000 Budget): W={stat:.3f}, p={p_random_10000:.3f}\")"
   ]
  },
  {
   "cell_type": "markdown",
   "id": "784bff0e",
   "metadata": {},
   "source": [
    "The p-value > 0.05, so the null hypothesis is accepted, meaning the data is normally distributed."
   ]
  },
  {
   "cell_type": "code",
   "execution_count": null,
   "id": "6e6d9dc2",
   "metadata": {},
   "outputs": [
    {
     "name": "stdout",
     "output_type": "stream",
     "text": [
      "Levene's Test (10000 Budget): W-statistic=0.443, p-value=0.726\n"
     ]
    }
   ],
   "source": [
    "from scipy.stats import levene\n",
    "\n",
    "#  Levene's test for variance equality across groups for 10000 budget\n",
    "stat_var_10000, p_value_var_10000 = levene(sl_budget_10000.flatten(), al_budget_10000.flatten(), hybrid_budget_10000.flatten(), random_budget_10000.flatten())\n",
    "print(f\"Levene's Test (10000 Budget): W-statistic={stat_var_10000:.3f}, p-value={p_value_var_10000:.3f}\")"
   ]
  },
  {
   "cell_type": "markdown",
   "id": "5f3b25ba",
   "metadata": {},
   "source": [
    "P-value > 0.05, so the null hypothesis is accepted, the varaince is the same."
   ]
  },
  {
   "cell_type": "code",
   "execution_count": null,
   "id": "b83560d8",
   "metadata": {},
   "outputs": [
    {
     "name": "stdout",
     "output_type": "stream",
     "text": [
      "One-Way ANOVA (10000 Budget): F-statistic=41.079, p-value=0.000000096170375391477337239294\n"
     ]
    }
   ],
   "source": [
    "from scipy.stats import f_oneway\n",
    "\n",
    "#  one-way ANOVA for budget 10000\n",
    "f_stat_10000, p_value_anova_10000 = f_oneway(sl_budget_10000.flatten(), al_budget_10000.flatten(), hybrid_budget_10000.flatten(), random_budget_10000.flatten())\n",
    "print(f\"One-Way ANOVA (10000 Budget): F-statistic={f_stat_10000:.3f}, p-value={p_value_anova_10000:.30f}\")"
   ]
  },
  {
   "cell_type": "markdown",
   "id": "f76cca41",
   "metadata": {},
   "source": [
    "Anova test results in p-value < 0.05, so the null hypothesis is rejected, meaning the accuracy is different across the groups."
   ]
  },
  {
   "cell_type": "code",
   "execution_count": null,
   "id": "8469aa63",
   "metadata": {},
   "outputs": [
    {
     "name": "stdout",
     "output_type": "stream",
     "text": [
      "Pooled T-Test (SL vs AL, 10000 Budget): t-statistic=-10.214, p-value=0.000\n",
      "Pooled T-Test (SL vs Hybrid, 10000 Budget): t-statistic=-5.986, p-value=0.000\n",
      "Pooled T-Test (AL vs Hybrid, 10000 Budget): t-statistic=3.099, p-value=0.015\n",
      "Pooled T-Test (SL vs Random, 10000 Budget): t-statistic=-3.949, p-value=0.004\n",
      "Pooled T-Test (AL vs Random, 10000 Budget): t-statistic=8.889, p-value=0.000\n",
      "Pooled T-Test (Hybrid vs Random, 10000 Budget): t-statistic=3.750, p-value=0.006\n"
     ]
    }
   ],
   "source": [
    "from scipy.stats import ttest_ind\n",
    "\n",
    "#  pooled t-test between SL and AL for budget 10000\n",
    "t_stat_sl_al_10000, p_value_sl_al_10000 = ttest_ind(sl_budget_10000.flatten(), al_budget_10000.flatten(), equal_var=True)\n",
    "print(f\"Pooled T-Test (SL vs AL, 10000 Budget): t-statistic={t_stat_sl_al_10000:.3f}, p-value={p_value_sl_al_10000:.3f}\")\n",
    "\n",
    "#  pooled t-test between SL and Hybrid for budget 10000\n",
    "t_stat_sl_hybrid_10000, p_value_sl_hybrid_10000 = ttest_ind(sl_budget_10000.flatten(), hybrid_budget_10000.flatten(), equal_var=True)\n",
    "print(f\"Pooled T-Test (SL vs Hybrid, 10000 Budget): t-statistic={t_stat_sl_hybrid_10000:.3f}, p-value={p_value_sl_hybrid_10000:.3f}\")\n",
    "\n",
    "#  pooled t-test between AL and Hybrid for budget 10000\n",
    "t_stat_al_hybrid_10000, p_value_al_hybrid_10000 = ttest_ind(al_budget_10000.flatten(), hybrid_budget_10000.flatten(), equal_var=True)\n",
    "print(f\"Pooled T-Test (AL vs Hybrid, 10000 Budget): t-statistic={t_stat_al_hybrid_10000:.3f}, p-value={p_value_al_hybrid_10000:.3f}\")\n",
    "\n",
    "#  pooled t-test between SL and Random for budget 10000\n",
    "t_stat_sl_random_10000, p_value_sl_random_10000 = ttest_ind(sl_budget_10000.flatten(), random_budget_10000.flatten(), equal_var=True)\n",
    "print(f\"Pooled T-Test (SL vs Random, 10000 Budget): t-statistic={t_stat_sl_random_10000:.3f}, p-value={p_value_sl_random_10000:.3f}\")\n",
    "\n",
    "#  pooled t-test between AL and Random for budget 10000\n",
    "t_stat_al_random_10000, p_value_al_random_10000 = ttest_ind(al_budget_10000.flatten(), random_budget_10000.flatten(), equal_var=True)\n",
    "print(f\"Pooled T-Test (AL vs Random, 10000 Budget): t-statistic={t_stat_al_random_10000:.3f}, p-value={p_value_al_random_10000:.3f}\")\n",
    "\n",
    "#  pooled t-test between Hybrid and Random for budget 10000\n",
    "t_stat_hybrid_random_10000, p_value_hybrid_random_10000 = ttest_ind(hybrid_budget_10000.flatten(), random_budget_10000.flatten(), equal_var=True)\n",
    "print(f\"Pooled T-Test (Hybrid vs Random, 10000 Budget): t-statistic={t_stat_hybrid_random_10000:.3f}, p-value={p_value_hybrid_random_10000:.3f}\")"
   ]
  },
  {
   "cell_type": "markdown",
   "id": "7a3ef2dd",
   "metadata": {},
   "source": [
    "H0 is rejected for SL and AL and SL and Hybrid, meaning the accuracy is different across the groups. H0 is accepted for Hybrid and AL, meaning there is no statistically significant difference in accuracy between these two methods. So the SL is lower"
   ]
  },
  {
   "cell_type": "markdown",
   "id": "c6fc8afc",
   "metadata": {},
   "source": [
    "As the mean accurracy of SL and hybird is greater than SL, the inference is that SL is the worst than this 2 methods "
   ]
  }
 ],
 "metadata": {
  "kernelspec": {
   "display_name": "tf_env",
   "language": "python",
   "name": "python3"
  },
  "language_info": {
   "codemirror_mode": {
    "name": "ipython",
    "version": 3
   },
   "file_extension": ".py",
   "mimetype": "text/x-python",
   "name": "python",
   "nbconvert_exporter": "python",
   "pygments_lexer": "ipython3",
   "version": "3.9.19"
  }
 },
 "nbformat": 4,
 "nbformat_minor": 5
}
