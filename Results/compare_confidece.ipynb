{
 "cells": [
  {
   "cell_type": "code",
   "execution_count": 24,
   "id": "1b833966",
   "metadata": {},
   "outputs": [],
   "source": [
    "import os\n",
    "import pandas as pd\n",
    "from scipy.stats import levene, f_oneway, ttest_ind, kruskal\n"
   ]
  },
  {
   "cell_type": "code",
   "execution_count": 6,
   "id": "320e4def",
   "metadata": {},
   "outputs": [],
   "source": [
    "# Load data\n",
    "path = os.path.join(os.getcwd(), 'Final_results/confideces_results.csv')\n",
    "\n",
    "df = pd.read_csv(path)"
   ]
  },
  {
   "cell_type": "code",
   "execution_count": 12,
   "id": "56730c5c",
   "metadata": {},
   "outputs": [],
   "source": [
    "from scipy.stats import shapiro\n",
    "\n",
    "# Shapiro-Wilk test for each row\n",
    "shapiro_results = []\n",
    "\n",
    "for index, row in df.iterrows():\n",
    "    fold_values = row[['Fold 1', 'Fold 2', 'Fold 3', 'Fold 4', 'Fold 5']].values\n",
    "    stat, p_value = shapiro(fold_values)\n",
    "    shapiro_results.append({\n",
    "        'Row Index': index,\n",
    "        'Confidence Threshold': row['Confidence Threshold'],\n",
    "        'Budget': row['Budget'],\n",
    "        'W-Statistic': stat,\n",
    "        'P-Value': p_value\n",
    "    })\n",
    "\n",
    "shapiro_results_df = pd.DataFrame(shapiro_results)"
   ]
  },
  {
   "cell_type": "markdown",
   "id": "e69392e7",
   "metadata": {},
   "source": [
    "For all treshold for b = 2500 p-value>0.05, so the H0 is accepted, meaning the data is normally distributed.\n",
    "For the rest the p-value is <0.05, so the H0 is rejected, meaning the data is not normally distributed."
   ]
  },
  {
   "cell_type": "code",
   "execution_count": 5,
   "id": "5eb9784c",
   "metadata": {},
   "outputs": [
    {
     "data": {
      "text/html": [
       "<div>\n",
       "<style scoped>\n",
       "    .dataframe tbody tr th:only-of-type {\n",
       "        vertical-align: middle;\n",
       "    }\n",
       "\n",
       "    .dataframe tbody tr th {\n",
       "        vertical-align: top;\n",
       "    }\n",
       "\n",
       "    .dataframe thead th {\n",
       "        text-align: right;\n",
       "    }\n",
       "</style>\n",
       "<table border=\"1\" class=\"dataframe\">\n",
       "  <thead>\n",
       "    <tr style=\"text-align: right;\">\n",
       "      <th></th>\n",
       "      <th>Row Index</th>\n",
       "      <th>Confidence Threshold</th>\n",
       "      <th>Budget</th>\n",
       "      <th>W-Statistic</th>\n",
       "      <th>P-Value</th>\n",
       "    </tr>\n",
       "  </thead>\n",
       "  <tbody>\n",
       "    <tr>\n",
       "      <th>0</th>\n",
       "      <td>0</td>\n",
       "      <td>0.90</td>\n",
       "      <td>500-2500</td>\n",
       "      <td>0.848005</td>\n",
       "      <td>0.188294</td>\n",
       "    </tr>\n",
       "    <tr>\n",
       "      <th>1</th>\n",
       "      <td>1</td>\n",
       "      <td>0.90</td>\n",
       "      <td>1000-5000</td>\n",
       "      <td>0.734930</td>\n",
       "      <td>0.021454</td>\n",
       "    </tr>\n",
       "    <tr>\n",
       "      <th>2</th>\n",
       "      <td>2</td>\n",
       "      <td>0.90</td>\n",
       "      <td>2000-10000</td>\n",
       "      <td>0.692233</td>\n",
       "      <td>0.007929</td>\n",
       "    </tr>\n",
       "    <tr>\n",
       "      <th>3</th>\n",
       "      <td>3</td>\n",
       "      <td>0.95</td>\n",
       "      <td>500-2500</td>\n",
       "      <td>0.967457</td>\n",
       "      <td>0.858695</td>\n",
       "    </tr>\n",
       "    <tr>\n",
       "      <th>4</th>\n",
       "      <td>4</td>\n",
       "      <td>0.95</td>\n",
       "      <td>1000-5000</td>\n",
       "      <td>0.914960</td>\n",
       "      <td>0.497964</td>\n",
       "    </tr>\n",
       "    <tr>\n",
       "      <th>5</th>\n",
       "      <td>5</td>\n",
       "      <td>0.95</td>\n",
       "      <td>2000-10000</td>\n",
       "      <td>0.892862</td>\n",
       "      <td>0.371698</td>\n",
       "    </tr>\n",
       "    <tr>\n",
       "      <th>6</th>\n",
       "      <td>6</td>\n",
       "      <td>0.97</td>\n",
       "      <td>500-2500</td>\n",
       "      <td>0.868355</td>\n",
       "      <td>0.259825</td>\n",
       "    </tr>\n",
       "    <tr>\n",
       "      <th>7</th>\n",
       "      <td>7</td>\n",
       "      <td>0.97</td>\n",
       "      <td>1000-5000</td>\n",
       "      <td>0.733437</td>\n",
       "      <td>0.020756</td>\n",
       "    </tr>\n",
       "    <tr>\n",
       "      <th>8</th>\n",
       "      <td>8</td>\n",
       "      <td>0.97</td>\n",
       "      <td>2000-10000</td>\n",
       "      <td>0.923549</td>\n",
       "      <td>0.553088</td>\n",
       "    </tr>\n",
       "  </tbody>\n",
       "</table>\n",
       "</div>"
      ],
      "text/plain": [
       "   Row Index  Confidence Threshold      Budget  W-Statistic   P-Value\n",
       "0          0                  0.90    500-2500     0.848005  0.188294\n",
       "1          1                  0.90   1000-5000     0.734930  0.021454\n",
       "2          2                  0.90  2000-10000     0.692233  0.007929\n",
       "3          3                  0.95    500-2500     0.967457  0.858695\n",
       "4          4                  0.95   1000-5000     0.914960  0.497964\n",
       "5          5                  0.95  2000-10000     0.892862  0.371698\n",
       "6          6                  0.97    500-2500     0.868355  0.259825\n",
       "7          7                  0.97   1000-5000     0.733437  0.020756\n",
       "8          8                  0.97  2000-10000     0.923549  0.553088"
      ]
     },
     "execution_count": 5,
     "metadata": {},
     "output_type": "execute_result"
    }
   ],
   "source": [
    "shapiro_results_df"
   ]
  },
  {
   "cell_type": "markdown",
   "id": "fefce90a",
   "metadata": {},
   "source": [
    "# B=2500"
   ]
  },
  {
   "cell_type": "code",
   "execution_count": 8,
   "id": "aaf5b1fd",
   "metadata": {},
   "outputs": [],
   "source": [
    "# Extract fold values for each confidence threshold for budget '500-2500'\n",
    "data_500_2500 = {\n",
    "    0.90: df[(df['Confidence Threshold'] == 0.90) & (df['Budget'] == '500-2500')][['Fold 1', 'Fold 2', 'Fold 3', 'Fold 4', 'Fold 5']].values.flatten(),\n",
    "    0.95: df[(df['Confidence Threshold'] == 0.95) & (df['Budget'] == '500-2500')][['Fold 1', 'Fold 2', 'Fold 3', 'Fold 4', 'Fold 5']].values.flatten(),\n",
    "    0.97: df[(df['Confidence Threshold'] == 0.97) & (df['Budget'] == '500-2500')][['Fold 1', 'Fold 2', 'Fold 3', 'Fold 4', 'Fold 5']].values.flatten(),\n",
    "}"
   ]
  },
  {
   "cell_type": "code",
   "execution_count": null,
   "id": "209aec8b",
   "metadata": {},
   "outputs": [
    {
     "name": "stdout",
     "output_type": "stream",
     "text": [
      "Levene's Test: W=2.7458, p-value=0.1043\n",
      "Variances are not significantly different\n"
     ]
    }
   ],
   "source": [
    "# Levene's test for equal variances\n",
    "stat, p_value = levene(data_500_2500[0.90], data_500_2500[0.95], data_500_2500[0.97])"
   ]
  },
  {
   "cell_type": "code",
   "execution_count": 15,
   "id": "20617c85",
   "metadata": {},
   "outputs": [
    {
     "name": "stdout",
     "output_type": "stream",
     "text": [
      "One-Way ANOVA: F=12.8464, p-value=0.0010\n"
     ]
    }
   ],
   "source": [
    "# Extract data for each confidence threshold\n",
    "data_090 = data_500_2500[0.90]\n",
    "data_095 = data_500_2500[0.95]\n",
    "data_097 = data_500_2500[0.97]\n",
    "\n",
    "# one-way ANOVA\n",
    "stat, p_value = f_oneway(data_090, data_095, data_097)\n",
    "\n",
    "print(f\"One-Way ANOVA: F={stat:.4f}, p-value={p_value:.4f}\")"
   ]
  },
  {
   "cell_type": "code",
   "execution_count": null,
   "id": "bdbb286b",
   "metadata": {},
   "outputs": [
    {
     "name": "stdout",
     "output_type": "stream",
     "text": [
      "T-Test Results — Budget: 500-2500\n",
      "\n",
      "0.90 vs 0.95: t=-3.9535, p-value=0.0042\n",
      "0.90 vs 0.97: t=-3.3523, p-value=0.0100\n",
      "0.95 vs 0.97: t=1.5091, p-value=0.1697\n"
     ]
    }
   ],
   "source": [
    "# Define pairs for comparison\n",
    "data_090 = data_500_2500[0.90]\n",
    "data_095 = data_500_2500[0.95]\n",
    "data_097 = data_500_2500[0.97]\n",
    "\n",
    "pairs = [\n",
    "    (\"0.90 vs 0.95\", data_090, data_095),\n",
    "    (\"0.90 vs 0.97\", data_090, data_097),\n",
    "    (\"0.95 vs 0.97\", data_095, data_097),\n",
    "]\n",
    "\n",
    "# Perform t-test for each pair\n",
    "print(\"T-Test Results — Budget: 500-2500\\n\")\n",
    "for label, group1, group2 in pairs:\n",
    "    stat, p_value = ttest_ind(group1, group2, equal_var=True)\n",
    "    print(f\"{label}: t={stat:.4f}, p-value={p_value:.4f}\")"
   ]
  },
  {
   "cell_type": "markdown",
   "id": "c20f17aa",
   "metadata": {},
   "source": [
    "There are differeneces for b=2500 betweeb 0.90 and 0.95 and 0.90 and 0.97, so the budget above 0.95 give better resluts than lower treholds "
   ]
  },
  {
   "cell_type": "markdown",
   "id": "35b62ffa",
   "metadata": {},
   "source": [
    "# B=5000"
   ]
  },
  {
   "cell_type": "code",
   "execution_count": 31,
   "id": "89c3be58",
   "metadata": {},
   "outputs": [],
   "source": [
    "# Extract fold values for each confidence threshold for budget 1000-5000\n",
    "data_1000_5000 = {\n",
    "    0.90: df[(df['Confidence Threshold'] == 0.90) & (df['Budget'] == '1000-5000')][['Fold 1', 'Fold 2', 'Fold 3', 'Fold 4', 'Fold 5']].values.flatten(),\n",
    "    0.95: df[(df['Confidence Threshold'] == 0.95) & (df['Budget'] == '1000-5000')][['Fold 1', 'Fold 2', 'Fold 3', 'Fold 4', 'Fold 5']].values.flatten(),\n",
    "    0.97: df[(df['Confidence Threshold'] == 0.97) & (df['Budget'] == '1000-5000')][['Fold 1', 'Fold 2', 'Fold 3', 'Fold 4', 'Fold 5']].values.flatten(),\n",
    "}"
   ]
  },
  {
   "cell_type": "code",
   "execution_count": 32,
   "id": "31b4951f",
   "metadata": {},
   "outputs": [
    {
     "name": "stdout",
     "output_type": "stream",
     "text": [
      "Kruskal-Wallis Test (1000-5000): H=3.6600, p-value=0.1604\n"
     ]
    }
   ],
   "source": [
    "# Kruskal-Wallis test for budget 500-2500\n",
    "stat, p_value = kruskal(data_1000_5000[0.9], data_1000_5000[0.95], data_1000_5000[0.97])\n",
    "\n",
    "print(f\"Kruskal-Wallis Test (1000-5000): H={stat:.4f}, p-value={p_value:.4f}\")"
   ]
  },
  {
   "cell_type": "markdown",
   "id": "f31214c1",
   "metadata": {},
   "source": [
    "# B = 10000"
   ]
  },
  {
   "cell_type": "code",
   "execution_count": 33,
   "id": "975dec82",
   "metadata": {},
   "outputs": [],
   "source": [
    "# Extract fold values for each confidence threshold for budget 2000-10000\n",
    "data_2000_1000 = {\n",
    "    0.90: df[(df['Confidence Threshold'] == 0.90) & (df['Budget'] == '2000-10000')][['Fold 1', 'Fold 2', 'Fold 3', 'Fold 4', 'Fold 5']].values.flatten(),\n",
    "    0.95: df[(df['Confidence Threshold'] == 0.95) & (df['Budget'] == '2000-10000')][['Fold 1', 'Fold 2', 'Fold 3', 'Fold 4', 'Fold 5']].values.flatten(),\n",
    "    0.97: df[(df['Confidence Threshold'] == 0.97) & (df['Budget'] == '2000-10000')][['Fold 1', 'Fold 2', 'Fold 3', 'Fold 4', 'Fold 5']].values.flatten(),\n",
    "}"
   ]
  },
  {
   "cell_type": "code",
   "execution_count": 34,
   "id": "88b30725",
   "metadata": {},
   "outputs": [
    {
     "name": "stdout",
     "output_type": "stream",
     "text": [
      "Kruskal-Wallis Test (500-2500): H=3.6600, p-value=0.1604\n"
     ]
    }
   ],
   "source": [
    "# Kruskal-Wallis test for budget 2000-1000\n",
    "stat, p_value = kruskal(data_1000_5000[0.9], data_1000_5000[0.95], data_1000_5000[0.97])\n",
    "\n",
    "print(f\"Kruskal-Wallis Test (500-2500): H={stat:.4f}, p-value={p_value:.4f}\")"
   ]
  }
 ],
 "metadata": {
  "kernelspec": {
   "display_name": "tf_env",
   "language": "python",
   "name": "python3"
  },
  "language_info": {
   "codemirror_mode": {
    "name": "ipython",
    "version": 3
   },
   "file_extension": ".py",
   "mimetype": "text/x-python",
   "name": "python",
   "nbconvert_exporter": "python",
   "pygments_lexer": "ipython3",
   "version": "3.9.19"
  }
 },
 "nbformat": 4,
 "nbformat_minor": 5
}
